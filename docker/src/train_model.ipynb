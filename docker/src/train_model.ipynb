{
 "cells": [
  {
   "cell_type": "code",
   "execution_count": 1,
   "metadata": {},
   "outputs": [],
   "source": [
    "import os\n",
    "import gym\n",
    "import gym_donkeycar\n",
    "import numpy as np\n",
    "import pandas as pd\n",
    "import cv2 as cv\n",
    "import time\n",
    "import pickle\n",
    "import birds_eye_vector_space"
   ]
  },
  {
   "cell_type": "code",
   "execution_count": 2,
   "metadata": {},
   "outputs": [
    {
     "name": "stderr",
     "output_type": "stream",
     "text": [
      "C:\\ProgramData\\Anaconda3\\lib\\site-packages\\ipykernel\\ipkernel.py:287: DeprecationWarning: `should_run_async` will not call `transform_cell` automatically in the future. Please pass the result to `transformed_cell` argument and any exception that happen during thetransform in `preprocessing_exc_tuple` in IPython 7.17 and above.\n",
      "  and should_run_async(code)\n"
     ]
    }
   ],
   "source": [
    "# Supress scientific notation like: e*+03\n",
    "np.set_printoptions(suppress=True)"
   ]
  },
  {
   "cell_type": "code",
   "execution_count": 3,
   "metadata": {},
   "outputs": [],
   "source": [
    "ANCHOR_POINTS = 8\n",
    "ROAD_ROI = np.array([(120,90),(200,90),(0,200),(320,200)],dtype='float32')\n",
    "WARPED_IMAGE_SHAPE = np.array([[10,320],[0,0],[200,0],[200,310]],np.int32)            # NEW IMAGE Shape after Warping !!!!!!!!!!!!!!!!!!!!!!!!!!!!!!!!!!!!!!!!!!!!\n",
    "WARPED_IMAGE_HEIGHT = 320\n",
    "WARPED_IMAGE_WIDTH = 200\n",
    "NUMBER_OF_DEPTH_LAYERS = 50\n"
   ]
  },
  {
   "cell_type": "code",
   "execution_count": 4,
   "metadata": {},
   "outputs": [
    {
     "name": "stdout",
     "output_type": "stream",
     "text": [
      "vector space is initialized\n",
      "loading camera parameters\n"
     ]
    }
   ],
   "source": [
    "vector_space = birds_eye_vector_space.Vector_space(ANCHOR_POINTS, ROAD_ROI, WARPED_IMAGE_SHAPE, WARPED_IMAGE_HEIGHT, WARPED_IMAGE_WIDTH, NUMBER_OF_DEPTH_LAYERS)"
   ]
  },
  {
   "cell_type": "code",
   "execution_count": 5,
   "metadata": {},
   "outputs": [
    {
     "data": {
      "text/plain": [
       "'C:\\\\Users\\\\studwilksa2535\\\\Desktop\\\\DonkeyCarAI\\\\Master-Thesis-Development-of-a-Deep-RL-Model-for-simulated-Driving-2D-Vector-Space\\\\docker\\\\src'"
      ]
     },
     "execution_count": 5,
     "metadata": {},
     "output_type": "execute_result"
    }
   ],
   "source": [
    "os.getcwd()"
   ]
  },
  {
   "cell_type": "markdown",
   "metadata": {},
   "source": [
    "## Main training loop"
   ]
  },
  {
   "cell_type": "code",
   "execution_count": 6,
   "metadata": {},
   "outputs": [
    {
     "name": "stderr",
     "output_type": "stream",
     "text": [
      "INFO:gym_donkeycar.core.client:connecting to localhost:9091 \n",
      "C:\\Users\\studwilksa2535\\AppData\\Roaming\\Python\\Python38\\site-packages\\gym\\spaces\\box.py:84: UserWarning: \u001b[33mWARN: Box bound precision lowered by casting to float32\u001b[0m\n",
      "  logger.warn(f\"Box bound precision lowered by casting to {self.dtype}\")\n",
      "WARNING:gym_donkeycar.envs.donkey_sim:waiting for sim to start..\n",
      "INFO:gym_donkeycar.envs.donkey_sim:on need car config\n",
      "INFO:gym_donkeycar.envs.donkey_sim:sending car config.\n",
      "INFO:gym_donkeycar.envs.donkey_sim:done sending cam config. {'img_w': '320', 'img_h': '200', 'img_d': '1', 'img_enc': 'PNG', 'fov': '90', 'fish_eye_x': '0.0', 'fish_eye_y': '0.0', 'offset_x': '0.0', 'offset_y': '0.0', 'offset_z': '0.0', 'rot_x': '0'}\n"
     ]
    },
    {
     "name": "stdout",
     "output_type": "stream",
     "text": [
      "starting DonkeyGym env\n",
      "Setting default: start_delay 5.0\n",
      "Setting default: max_cte 5.0\n",
      "Setting default: frame_skip 1\n",
      "Setting default: cam_resolution (120, 160, 3)\n",
      "Setting default: log_level 20\n",
      "Setting default: host localhost\n",
      "Setting default: port 9091\n"
     ]
    }
   ],
   "source": [
    "#%% SET UP ENVIRONMENT\n",
    "# Normal one \n",
    "#os.environ['DONKEY_SIM_PATH'] = \"/home/zamy/masterthesis/DonkeySimLinux/donkey_sim.x86_64\"\n",
    "os.environ['DONKEY_SIM_PATH'] = \"C:\\\\Users\\\\studwilksa2535\\\\Desktop\\\\DonkeyCarAI\\\\test\\\\DonkeySimWin\\\\donkey_sim.exe\"\n",
    "os.environ['DONKEY_SIM_PORT'] = str(9091)\n",
    "os.environ['DONKEY_SIM_HEADLESS'] = str(0) # \"1\" is headless\n",
    "\n",
    "CAMERA_CONF = {'cam_config':{'img_w': '320',\n",
    "                        'img_h': '200',\n",
    "                        'img_d': '1',   # 3 for colored Tensor image\n",
    "                        'img_enc': 'PNG', \n",
    "                        'fov': '90', \n",
    "                        'fish_eye_x': '0.0', \n",
    "                        'fish_eye_y': '0.0', \n",
    "                        'offset_x': '0.0', \n",
    "                        'offset_y': '0.0', \n",
    "                        'offset_z': '0.0', \n",
    "                        'rot_x': '0'}}\n",
    "# Other tracks\n",
    "env = gym.make(\"donkey-generated-track-v0\",conf=CAMERA_CONF)\n",
    "\n",
    "# TRACKS TRACKS - TKarmer Tracks\n",
    "#env = gym.make(\"donkey-generated-track-v0\",conf=CAMERA_CONF) #,conf=config\n",
    "# Random track, but the reward is kinda not working, IF THE REWARD WORKS IT IS KINDA RANDOM !!, this maybe debends on the environment\n",
    "#env = gym.make(\"donkey-generated-roads-v0\",conf=CAMERA_CONF) #,conf=config\n",
    "# Mini Monaco Track\n",
    "#env = gym.make(\"donkey-minimonaco-track-v0\",conf=CAMERA_CONF) #,conf=config\n",
    "\n",
    "\n",
    "\n",
    "#env = gym.make(\"donkey-generated-track-v0\") #,conf=config\n",
    "#env = gym.wrappers.ResizeObservation(env,(200,320))\n",
    "\n",
    "## UNCOMMENT LATER\n",
    "#env.frameskip = 1\n",
    "#gym.wrappers.max\n",
    "\n",
    "#%% PLAY\n",
    "obv = env.reset()\n",
    "#action = np.array([0,0.10]) # drive straight with small speed\n",
    "action = np.array([0,0.05]) # drive straight with small speed\n",
    "#start_time = time.time()\n",
    "for t in range(5000):\n",
    "    # steer lighty to left or right\n",
    "    #if action[0] < 1 and t % 5 == 0:\n",
    "    #    action[0] += 0.003 # 0.005\n",
    "    \n",
    "    observation, reward, terminal, info = env.step(action)\n",
    "    \n",
    "    # Graykonvertion of the observation image\n",
    "    observation = cv.cvtColor(observation, cv.COLOR_BGR2GRAY)   \n",
    "    \n",
    "    #cv.imshow('donkey car camera',observation)\n",
    "    \n",
    "    #print('Observation SHAPE: %s' % observation.shape)\n",
    "    #print('SHAPE: {}'.format(observation.shape))\n",
    "    \n",
    "    # image preprocessing:\n",
    "    #image_preprocessing(observation)\n",
    "    \n",
    "    vec_image = vector_space.image_preprocessing(observation)\n",
    "    \n",
    "    # Test output of the step function results\n",
    "    #print('REWARD: %s' % reward)\n",
    "    #print('\\nTERMINAL: %s' % terminal)\n",
    "    #print('\\nINFO: %s' % info)\n",
    "\n",
    "    cv.imshow('vec img', vec_image)\n",
    "    cv.imshow('observation', observation)\n",
    "    \n",
    "    #break       # TODO: DELTE LATER\n",
    "        \n",
    "    if cv.waitKey(25) & 0xFF == ord('q'):\n",
    "        cv.destroyAllWindows()\n",
    "        break\n",
    "    \n",
    "    #print('FPS: {}'.format(1 / abs(start_time - time.time())))\n",
    "    #start_time = time.time()\n",
    "\n",
    "# Close the enviroment\n",
    "env.close()"
   ]
  }
 ],
 "metadata": {
  "interpreter": {
   "hash": "916dbcbb3f70747c44a77c7bcd40155683ae19c65e1c03b4aa3499c5328201f1"
  },
  "kernelspec": {
   "display_name": "Python 3",
   "language": "python",
   "name": "python3"
  },
  "language_info": {
   "codemirror_mode": {
    "name": "ipython",
    "version": 3
   },
   "file_extension": ".py",
   "mimetype": "text/x-python",
   "name": "python",
   "nbconvert_exporter": "python",
   "pygments_lexer": "ipython3",
   "version": "3.8.5"
  }
 },
 "nbformat": 4,
 "nbformat_minor": 2
}
