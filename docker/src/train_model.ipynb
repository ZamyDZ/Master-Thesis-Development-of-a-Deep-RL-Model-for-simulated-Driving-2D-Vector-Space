{
 "cells": [
  {
   "cell_type": "code",
   "execution_count": 1,
   "metadata": {},
   "outputs": [],
   "source": [
    "import os\n",
    "import gym\n",
    "import gym_donkeycar\n",
    "import numpy as np\n",
    "import pandas as pd\n",
    "import matplotlib.pyplot as plt\n",
    "import cv2 as cv\n",
    "import time\n",
    "import pickle\n",
    "import birds_eye_vector_space\n",
    "import random\n",
    "from pandas import Series, DataFrame\n",
    "from collections import deque\n",
    "#from keras.layers import Dense\n",
    "#from keras.optimizers import adam_v2    # maybe delete"
   ]
  },
  {
   "cell_type": "code",
   "execution_count": 2,
   "metadata": {},
   "outputs": [
    {
     "name": "stderr",
     "output_type": "stream",
     "text": [
      "C:\\ProgramData\\Anaconda3\\lib\\site-packages\\ipykernel\\ipkernel.py:287: DeprecationWarning: `should_run_async` will not call `transform_cell` automatically in the future. Please pass the result to `transformed_cell` argument and any exception that happen during thetransform in `preprocessing_exc_tuple` in IPython 7.17 and above.\n",
      "  and should_run_async(code)\n"
     ]
    }
   ],
   "source": [
    "# Supress scientific notation like: e*+03\n",
    "np.set_printoptions(suppress=True)"
   ]
  },
  {
   "cell_type": "code",
   "execution_count": 3,
   "metadata": {},
   "outputs": [],
   "source": [
    "ANCHOR_POINTS = 8\n",
    "ROAD_ROI = np.array([(120,90),(200,90),(0,200),(320,200)],dtype='float32')\n",
    "WARPED_IMAGE_SHAPE = np.array([[10,320],[0,0],[200,0],[200,310]],np.int32)            # NEW IMAGE Shape after Warping !!!!!!!!!!!!!!!!!!!!!!!!!!!!!!!!!!!!!!!!!!!!\n",
    "WARPED_IMAGE_HEIGHT = 320\n",
    "WARPED_IMAGE_WIDTH = 200\n",
    "NUMBER_OF_DEPTH_LAYERS = 50\n"
   ]
  },
  {
   "cell_type": "code",
   "execution_count": 4,
   "metadata": {},
   "outputs": [],
   "source": [
    "# function to save the plots\n",
    "def save_plot(data, name, episode):\n",
    "    plt.figure(figsize=(8,5), frameon=True)\n",
    "    #plt.plot([episode for episode in range(len(data))], data)\n",
    "    plt.plot([ep for ep in range(episode)], data)\n",
    "    plt.xlabel('Episodes')\n",
    "    plt.ylabel(name)\n",
    "    figplot = '%s-episode-%s.png' % (name,episode)\n",
    "    #figplot = '{}-episode-{}.png'.format(name,episode)\n",
    "    #location = '{}/saves/torch/{}'.format(os.getcwd(),figplot)\n",
    "    #location = '%s/collected_data/plots/%s' % (os.getcwd(),figplot)\n",
    "    location = 'C:\\\\Users\\\\studwilksa2535\\\\Desktop\\\\DonkeyCarAI\\\\collected_data\\\\plots\\\\%s' % figplot \n",
    "    plt.savefig(location, transparent=False)\n",
    "    plt.close()"
   ]
  },
  {
   "cell_type": "code",
   "execution_count": 5,
   "metadata": {},
   "outputs": [],
   "source": [
    "def save_data_as_dataframe(episode_number, reward, loss, measured_time, max_cte, average_cte, last_lap_time):\n",
    "    episodes = [i for i in range(1, episode_number+1)]\n",
    "    collected_data = {'episode': episodes, 'reward': reward, 'loss':loss, 'time': measured_time, 'max_cte': max_cte, 'average_cte': average_cte, 'lap_time': last_lap_time}\n",
    "    df_data = DataFrame.from_dict(collected_data).set_index('episode')\n",
    "    \n",
    "    df_name = 'data-episode-%s.pkl' % episode\n",
    "    #location = '%s/collected_data/raw_data/%s' % (os.getcwd(),df_name)\n",
    "    location = 'C:\\\\Users\\\\studwilksa2535\\\\Desktop\\\\DonkeyCarAI\\\\collected_data\\\\raw_data\\\\%s' % df_name\n",
    "    df_data.to_pickle(location)"
   ]
  },
  {
   "cell_type": "code",
   "execution_count": 6,
   "metadata": {},
   "outputs": [
    {
     "name": "stdout",
     "output_type": "stream",
     "text": [
      "vector space is initialized\n",
      "loading camera parameters\n"
     ]
    }
   ],
   "source": [
    "vector_space = birds_eye_vector_space.Vector_space(ANCHOR_POINTS, ROAD_ROI, WARPED_IMAGE_SHAPE, WARPED_IMAGE_HEIGHT, WARPED_IMAGE_WIDTH, NUMBER_OF_DEPTH_LAYERS)"
   ]
  },
  {
   "cell_type": "code",
   "execution_count": 7,
   "metadata": {},
   "outputs": [
    {
     "data": {
      "text/plain": [
       "'C:\\\\Users\\\\studwilksa2535\\\\Desktop\\\\DonkeyCarAI\\\\Master-Thesis-Development-of-a-Deep-RL-Model-for-simulated-Driving-2D-Vector-Space\\\\docker\\\\src'"
      ]
     },
     "execution_count": 7,
     "metadata": {},
     "output_type": "execute_result"
    }
   ],
   "source": [
    "os.getcwd()"
   ]
  },
  {
   "cell_type": "markdown",
   "metadata": {},
   "source": [
    "## Main training loop"
   ]
  },
  {
   "cell_type": "code",
   "execution_count": 8,
   "metadata": {},
   "outputs": [
    {
     "name": "stderr",
     "output_type": "stream",
     "text": [
      "INFO:gym_donkeycar.core.client:connecting to localhost:9091 \n",
      "C:\\Users\\studwilksa2535\\AppData\\Roaming\\Python\\Python38\\site-packages\\gym\\spaces\\box.py:84: UserWarning: \u001b[33mWARN: Box bound precision lowered by casting to float32\u001b[0m\n",
      "  logger.warn(f\"Box bound precision lowered by casting to {self.dtype}\")\n",
      "WARNING:gym_donkeycar.envs.donkey_sim:waiting for sim to start..\n",
      "INFO:gym_donkeycar.envs.donkey_sim:on need car config\n",
      "INFO:gym_donkeycar.envs.donkey_sim:sending car config.\n"
     ]
    },
    {
     "name": "stdout",
     "output_type": "stream",
     "text": [
      "starting DonkeyGym env\n",
      "Setting default: start_delay 5.0\n",
      "Setting default: max_cte 5.0\n",
      "Setting default: frame_skip 1\n",
      "Setting default: cam_resolution (120, 160, 3)\n",
      "Setting default: log_level 20\n",
      "Setting default: host localhost\n",
      "Setting default: port 9091\n"
     ]
    },
    {
     "name": "stderr",
     "output_type": "stream",
     "text": [
      "INFO:gym_donkeycar.envs.donkey_sim:done sending cam config. {'img_w': '320', 'img_h': '200', 'img_d': '1', 'img_enc': 'PNG', 'fov': '90', 'fish_eye_x': '0.0', 'fish_eye_y': '0.0', 'offset_x': '0.0', 'offset_y': '0.0', 'offset_z': '0.0', 'rot_x': '0'}\n"
     ]
    },
    {
     "name": "stdout",
     "output_type": "stream",
     "text": [
      "episode: 1\n",
      "episode: 2\n",
      "episode: 3\n",
      "episode: 4\n",
      "episode: 5\n",
      "saving after 5 episodes\n",
      "episode: 6\n",
      "episode: 7\n",
      "episode: 8\n",
      "episode: 9\n",
      "episode: 10\n",
      "saving after 5 episodes\n"
     ]
    }
   ],
   "source": [
    "#%% SET UP ENVIRONMENT\n",
    "# Normal one \n",
    "#os.environ['DONKEY_SIM_PATH'] = \"/home/zamy/masterthesis/DonkeySimLinux/donkey_sim.x86_64\"\n",
    "os.environ['DONKEY_SIM_PATH'] = \"C:\\\\Users\\\\studwilksa2535\\\\Desktop\\\\DonkeyCarAI\\\\test\\\\DonkeySimWin\\\\donkey_sim.exe\"\n",
    "os.environ['DONKEY_SIM_PORT'] = str(9091)\n",
    "os.environ['DONKEY_SIM_HEADLESS'] = str(0) # \"1\" is headless\n",
    "\n",
    "CAMERA_CONF = {'cam_config':{'img_w': '320',\n",
    "                        'img_h': '200',\n",
    "                        'img_d': '1',   # 3 for colored Tensor image\n",
    "                        'img_enc': 'PNG', \n",
    "                        'fov': '90', \n",
    "                        'fish_eye_x': '0.0', \n",
    "                        'fish_eye_y': '0.0', \n",
    "                        'offset_x': '0.0', \n",
    "                        'offset_y': '0.0', \n",
    "                        'offset_z': '0.0', \n",
    "                        'rot_x': '0'}}\n",
    "# Other tracks\n",
    "#env = gym.make(\"donkey-generated-track-v0\",conf=CAMERA_CONF)\n",
    "\n",
    "# TRACKS TRACKS - TKarmer Tracks\n",
    "#env = gym.make(\"donkey-generated-track-v0\",conf=CAMERA_CONF) #,conf=config\n",
    "# Random track, but the reward is kinda not working, IF THE REWARD WORKS IT IS KINDA RANDOM !!, this maybe debends on the environment\n",
    "env = gym.make(\"donkey-generated-roads-v0\",conf=CAMERA_CONF) #,conf=config\n",
    "\n",
    "# Mini Monaco Track\n",
    "#env = gym.make(\"donkey-minimonaco-track-v0\",conf=CAMERA_CONF) #,conf=config\n",
    "#env = gym.make(\"donkey-generated-track-v0\") #,conf=config\n",
    "#env = gym.wrappers.ResizeObservation(env,(200,320))\n",
    "\n",
    "## DELETE LATER\n",
    "#env.frameskip = 1\n",
    "#gym.wrappers.max\n",
    "\n",
    "# Arrays for data collection / exploratory data analysis\n",
    "average_cte = []\n",
    "average_speed = []\n",
    "measured_time = []\n",
    "average_rewards = []\n",
    "average_loss = []\n",
    "collected_max_cte = []\n",
    "collected_lap_time = []\n",
    "\n",
    "# when a model and the data should be saved\n",
    "save_state = 5\n",
    "\n",
    "for episode in range(1,11):    \n",
    "    print('episode: %s' % episode)\n",
    "    obv = env.reset()\n",
    "    #action = np.array([0,0.10]) # drive straight with small speed\n",
    "    action = np.array([1,0.1]) # drive straight with small speed\n",
    "    \n",
    "    # summed up values for data collection\n",
    "    # cumulative values for data collection\n",
    "    total_cte = float(0)\n",
    "    total_speed = float(0)\n",
    "    total_reward = float(0)\n",
    "    total_time = time.time()\n",
    "    max_cte = int(0)\n",
    "    lap_time = int(0)\n",
    "        \n",
    "    # counting the amount of frames per episode\n",
    "    frames = int(0)\n",
    "        \n",
    "    done = False\n",
    "    while not done:\n",
    "        # incrementing the amount of frames per episode\n",
    "        frames += 1\n",
    "        \n",
    "        #observation, reward, terminal, info = env.step(action)\n",
    "        observation, reward, done, info = env.step(action)\n",
    "        \n",
    "        # adding up the collected data\n",
    "        current_cte = info['cte'] \n",
    "        total_cte += current_cte\n",
    "        total_speed += info['speed']\n",
    "        total_reward += reward\n",
    "        # update if there is any change in incrementation \n",
    "        if max_cte < current_cte:\n",
    "            max_cte = current_cte\n",
    "        if lap_time < info['last_lap_time']:\n",
    "            lap_time = info['last_lap_time']\n",
    "\n",
    "        # Graykonvertion of the observation image\n",
    "        observation = cv.cvtColor(observation, cv.COLOR_BGR2GRAY)\n",
    "        \n",
    "        # Image preprocessing\n",
    "        vec_image = vector_space.image_preprocessing(observation)\n",
    "        \n",
    "        #print('REWARD: %s' % reward)\n",
    "        \n",
    "        cv.imshow('vec img', vec_image)\n",
    "        \n",
    "        #break       # TODO: DELTE LATER\n",
    "        if cv.waitKey(25) & 0xFF == ord('q'):\n",
    "            cv.destroyAllWindows()\n",
    "            break\n",
    "    \n",
    "    # AFTER this Episode\n",
    "    \n",
    "    # updating the time parameter\n",
    "    total_time = abs(total_time - time.time())\n",
    "    \n",
    "    # appending the collected data\n",
    "    average_cte.append(total_cte / frames)\n",
    "    average_speed.append(total_speed / frames)\n",
    "    measured_time.append(total_time)\n",
    "    average_rewards.append(total_reward / frames)\n",
    "    average_loss.append(episode * 2)                # TODO !!!!!!!!!! CHANGE LATER PLS \n",
    "    collected_max_cte.append(max_cte)\n",
    "    collected_lap_time.append(lap_time) \n",
    "    \n",
    "    # Testing of saving the plot\n",
    "    #if episode % 3 == 0 and episode != 0:\n",
    "    #    save_plot(colleted_rewards, 'Reward', episode)\n",
    "    #    cv.destroyAllWindows()\n",
    "    #    break\n",
    "    \n",
    "    if episode % save_state == 0 and episode != 0:\n",
    "        print('saving after %s episodes' % save_state)\n",
    "        \n",
    "        # Saving the data as plots\n",
    "        save_plot(average_rewards, 'Reward', episode)\n",
    "        save_plot(average_cte, 'Average cte', episode)\n",
    "        save_plot(collected_max_cte, 'Max cte', episode)\n",
    "        save_plot(measured_time, 'Time', episode)\n",
    "        save_plot(average_loss, 'Loss', episode)\n",
    "        save_plot(collected_lap_time, 'Lap Time', episode)\n",
    "        \n",
    "        # Saving the collected data\n",
    "        save_data_as_dataframe(episode, average_rewards, average_loss, measured_time, collected_max_cte, average_cte, collected_lap_time)\n",
    "    \n",
    "    # closing all cv windows\n",
    "    cv.destroyAllWindows()\n",
    "\n",
    "# closing all cv windows\n",
    "cv.destroyAllWindows()\n",
    "# Close the enviroment\n",
    "env.close()"
   ]
  }
 ],
 "metadata": {
  "interpreter": {
   "hash": "916dbcbb3f70747c44a77c7bcd40155683ae19c65e1c03b4aa3499c5328201f1"
  },
  "kernelspec": {
   "display_name": "Python 3",
   "language": "python",
   "name": "python3"
  },
  "language_info": {
   "codemirror_mode": {
    "name": "ipython",
    "version": 3
   },
   "file_extension": ".py",
   "mimetype": "text/x-python",
   "name": "python",
   "nbconvert_exporter": "python",
   "pygments_lexer": "ipython3",
   "version": "3.8.5"
  }
 },
 "nbformat": 4,
 "nbformat_minor": 2
}
