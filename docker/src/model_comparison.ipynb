{
 "cells": [
  {
   "cell_type": "markdown",
   "metadata": {},
   "source": [
    "# Model Comparison\n",
    "## This notebook compares the performance of the basis paper and the proposal on a random generated track of 100 rounds"
   ]
  },
  {
   "cell_type": "code",
   "execution_count": 1,
   "metadata": {},
   "outputs": [
    {
     "name": "stderr",
     "output_type": "stream",
     "text": [
      "C:\\Users\\studwilksa2535\\AppData\\Roaming\\Python\\Python38\\site-packages\\tensorflow\\core\\framework\\tensor_shape_pb2.py:18: DeprecationWarning: Call to deprecated create function FileDescriptor(). Note: Create unlinked descriptors is going to go away. Please use get/find descriptors from generated code or query the descriptor_pool.\n",
      "  DESCRIPTOR = _descriptor.FileDescriptor(\n",
      "C:\\Users\\studwilksa2535\\AppData\\Roaming\\Python\\Python38\\site-packages\\tensorflow\\core\\framework\\tensor_shape_pb2.py:36: DeprecationWarning: Call to deprecated create function FieldDescriptor(). Note: Create unlinked descriptors is going to go away. Please use get/find descriptors from generated code or query the descriptor_pool.\n",
      "  _descriptor.FieldDescriptor(\n",
      "C:\\Users\\studwilksa2535\\AppData\\Roaming\\Python\\Python38\\site-packages\\tensorflow\\core\\framework\\tensor_shape_pb2.py:29: DeprecationWarning: Call to deprecated create function Descriptor(). Note: Create unlinked descriptors is going to go away. Please use get/find descriptors from generated code or query the descriptor_pool.\n",
      "  _TENSORSHAPEPROTO_DIM = _descriptor.Descriptor(\n",
      "C:\\Users\\studwilksa2535\\AppData\\Roaming\\Python\\Python38\\site-packages\\tensorflow\\core\\framework\\types_pb2.py:19: DeprecationWarning: Call to deprecated create function FileDescriptor(). Note: Create unlinked descriptors is going to go away. Please use get/find descriptors from generated code or query the descriptor_pool.\n",
      "  DESCRIPTOR = _descriptor.FileDescriptor(\n",
      "C:\\Users\\studwilksa2535\\AppData\\Roaming\\Python\\Python38\\site-packages\\tensorflow\\core\\framework\\types_pb2.py:33: DeprecationWarning: Call to deprecated create function EnumValueDescriptor(). Note: Create unlinked descriptors is going to go away. Please use get/find descriptors from generated code or query the descriptor_pool.\n",
      "  _descriptor.EnumValueDescriptor(\n",
      "C:\\Users\\studwilksa2535\\AppData\\Roaming\\Python\\Python38\\site-packages\\tensorflow\\core\\framework\\types_pb2.py:27: DeprecationWarning: Call to deprecated create function EnumDescriptor(). Note: Create unlinked descriptors is going to go away. Please use get/find descriptors from generated code or query the descriptor_pool.\n",
      "  _DATATYPE = _descriptor.EnumDescriptor(\n",
      "C:\\Users\\studwilksa2535\\AppData\\Roaming\\Python\\Python38\\site-packages\\tensorflow\\core\\framework\\resource_handle_pb2.py:20: DeprecationWarning: Call to deprecated create function FileDescriptor(). Note: Create unlinked descriptors is going to go away. Please use get/find descriptors from generated code or query the descriptor_pool.\n",
      "  DESCRIPTOR = _descriptor.FileDescriptor(\n",
      "C:\\Users\\studwilksa2535\\AppData\\Roaming\\Python\\Python38\\site-packages\\tensorflow\\core\\framework\\resource_handle_pb2.py:39: DeprecationWarning: Call to deprecated create function FieldDescriptor(). Note: Create unlinked descriptors is going to go away. Please use get/find descriptors from generated code or query the descriptor_pool.\n",
      "  _descriptor.FieldDescriptor(\n",
      "C:\\Users\\studwilksa2535\\AppData\\Roaming\\Python\\Python38\\site-packages\\tensorflow\\core\\framework\\resource_handle_pb2.py:32: DeprecationWarning: Call to deprecated create function Descriptor(). Note: Create unlinked descriptors is going to go away. Please use get/find descriptors from generated code or query the descriptor_pool.\n",
      "  _RESOURCEHANDLEPROTO_DTYPEANDSHAPE = _descriptor.Descriptor(\n",
      "C:\\Users\\studwilksa2535\\AppData\\Roaming\\Python\\Python38\\site-packages\\tensorflow\\core\\framework\\tensor_pb2.py:21: DeprecationWarning: Call to deprecated create function FileDescriptor(). Note: Create unlinked descriptors is going to go away. Please use get/find descriptors from generated code or query the descriptor_pool.\n",
      "  DESCRIPTOR = _descriptor.FileDescriptor(\n",
      "C:\\Users\\studwilksa2535\\AppData\\Roaming\\Python\\Python38\\site-packages\\tensorflow\\core\\framework\\tensor_pb2.py:40: DeprecationWarning: Call to deprecated create function FieldDescriptor(). Note: Create unlinked descriptors is going to go away. Please use get/find descriptors from generated code or query the descriptor_pool.\n",
      "  _descriptor.FieldDescriptor(\n",
      "C:\\Users\\studwilksa2535\\AppData\\Roaming\\Python\\Python38\\site-packages\\tensorflow\\core\\framework\\tensor_pb2.py:33: DeprecationWarning: Call to deprecated create function Descriptor(). Note: Create unlinked descriptors is going to go away. Please use get/find descriptors from generated code or query the descriptor_pool.\n",
      "  _TENSORPROTO = _descriptor.Descriptor(\n",
      "C:\\Users\\studwilksa2535\\AppData\\Roaming\\Python\\Python38\\site-packages\\tensorflow\\core\\framework\\attr_value_pb2.py:21: DeprecationWarning: Call to deprecated create function FileDescriptor(). Note: Create unlinked descriptors is going to go away. Please use get/find descriptors from generated code or query the descriptor_pool.\n",
      "  DESCRIPTOR = _descriptor.FileDescriptor(\n",
      "C:\\Users\\studwilksa2535\\AppData\\Roaming\\Python\\Python38\\site-packages\\tensorflow\\core\\framework\\attr_value_pb2.py:40: DeprecationWarning: Call to deprecated create function FieldDescriptor(). Note: Create unlinked descriptors is going to go away. Please use get/find descriptors from generated code or query the descriptor_pool.\n",
      "  _descriptor.FieldDescriptor(\n",
      "C:\\Users\\studwilksa2535\\AppData\\Roaming\\Python\\Python38\\site-packages\\tensorflow\\core\\framework\\attr_value_pb2.py:33: DeprecationWarning: Call to deprecated create function Descriptor(). Note: Create unlinked descriptors is going to go away. Please use get/find descriptors from generated code or query the descriptor_pool.\n",
      "  _ATTRVALUE_LISTVALUE = _descriptor.Descriptor(\n",
      "C:\\ProgramData\\Anaconda3\\lib\\site-packages\\h5py\\__init__.py:46: DeprecationWarning: `np.typeDict` is a deprecated alias for `np.sctypeDict`.\n",
      "  from ._conv import register_converters as _register_converters\n"
     ]
    }
   ],
   "source": [
    "import os\n",
    "import gym\n",
    "import gym_donkeycar\n",
    "import numpy as np\n",
    "import pandas as pd\n",
    "import matplotlib.pyplot as plt\n",
    "import cv2 as cv\n",
    "import time\n",
    "import pickle\n",
    "import birds_eye_vector_space\n",
    "import basis_my_cv\n",
    "import random\n",
    "from pandas import Series, DataFrame\n",
    "from collections import deque\n",
    "from scipy.stats import ttest_ind\n",
    "\n",
    "import tensorflow as tf\n",
    "from tensorflow import keras\n",
    "from tensorflow.keras import layers\n",
    "from tensorflow.python.client import device_lib\n",
    "#from keras import backend as K\n",
    "#import tensorflow.keras.backend as K"
   ]
  },
  {
   "cell_type": "code",
   "execution_count": 2,
   "metadata": {},
   "outputs": [
    {
     "data": {
      "text/plain": [
       "[name: \"/device:CPU:0\"\n",
       " device_type: \"CPU\"\n",
       " memory_limit: 268435456\n",
       " locality {\n",
       " }\n",
       " incarnation: 10845446249392190109\n",
       " xla_global_id: -1,\n",
       " name: \"/device:GPU:0\"\n",
       " device_type: \"GPU\"\n",
       " memory_limit: 9401860096\n",
       " locality {\n",
       "   bus_id: 1\n",
       "   links {\n",
       "   }\n",
       " }\n",
       " incarnation: 3986115022599692765\n",
       " physical_device_desc: \"device: 0, name: GeForce RTX 2080 Ti, pci bus id: 0000:49:00.0, compute capability: 7.5\"\n",
       " xla_global_id: 416903419,\n",
       " name: \"/device:GPU:1\"\n",
       " device_type: \"GPU\"\n",
       " memory_limit: 6271991808\n",
       " locality {\n",
       "   bus_id: 1\n",
       "   links {\n",
       "   }\n",
       " }\n",
       " incarnation: 17983007198911937985\n",
       " physical_device_desc: \"device: 1, name: GeForce RTX 2070 SUPER, pci bus id: 0000:21:00.0, compute capability: 7.5\"\n",
       " xla_global_id: 2144165316]"
      ]
     },
     "execution_count": 2,
     "metadata": {},
     "output_type": "execute_result"
    }
   ],
   "source": [
    "len(tf.config.list_physical_devices('GPU'))\n",
    "device_lib.list_local_devices()"
   ]
  },
  {
   "cell_type": "code",
   "execution_count": 3,
   "metadata": {},
   "outputs": [],
   "source": [
    "# Supress scientific notation like: e*+03\n",
    "np.set_printoptions(suppress=True)"
   ]
  },
  {
   "cell_type": "code",
   "execution_count": 4,
   "metadata": {},
   "outputs": [],
   "source": [
    "ANCHOR_POINTS = 8\n",
    "ROAD_ROI = np.array([(120,90),(200,90),(0,200),(320,200)],dtype='float32')\n",
    "WARPED_IMAGE_SHAPE = np.array([[10,320],[0,0],[200,0],[200,310]],np.int32)            # NEW IMAGE Shape after Warping !!!!!!!!!!!!!!!!!!!!!!!!!!!!!!!!!!!!!!!!!!!!\n",
    "WARPED_IMAGE_HEIGHT = 320\n",
    "WARPED_IMAGE_WIDTH = 200\n",
    "NUMBER_OF_DEPTH_LAYERS = 50\n",
    "\n",
    "VECTOR_SPACE_IMAGE_ROWS = 50\n",
    "VECTOR_SPACE_IMAGE_COLUMNS = 100\n",
    "VECTOR_SPACE_IMAGE_CHANNELS = 4 # 4*(50,100) stacked frames "
   ]
  },
  {
   "cell_type": "code",
   "execution_count": 5,
   "metadata": {},
   "outputs": [],
   "source": [
    "# function to save the plots\n",
    "def save_plot(data, name, episode):\n",
    "    plt.figure(figsize=(8,5), frameon=True)\n",
    "    #plt.plot([episode for episode in range(len(data))], data)\n",
    "    plt.plot([ep for ep in range(episode)], data)\n",
    "    plt.xlabel('Episodes')\n",
    "    plt.ylabel(name)\n",
    "    figplot = '%s-episode-%s.png' % (name,episode)\n",
    "    #figplot = '{}-episode-{}.png'.format(name,episode)\n",
    "    #location = '{}/saves/torch/{}'.format(os.getcwd(),figplot)\n",
    "    #location = '%s/collected_data/plots/%s' % (os.getcwd(),figplot)\n",
    "    location = 'C:\\\\Users\\\\studwilksa2535\\\\Desktop\\\\DonkeyCarAI\\\\evaluation\\\\vector\\\\plots\\\\%s' % figplot \n",
    "    plt.savefig(location, transparent=False)\n",
    "    plt.close()"
   ]
  },
  {
   "cell_type": "code",
   "execution_count": 6,
   "metadata": {},
   "outputs": [],
   "source": [
    "def save_data_as_dataframe(episode_number, reward, loss, measured_time, max_cte, average_cte, last_lap_time):\n",
    "    episodes = [i for i in range(1, episode_number+1)]\n",
    "    collected_data = {'episode': episodes, 'reward': reward, 'loss':loss, 'time': measured_time, 'max_cte': max_cte, 'average_cte': average_cte, 'lap_time': last_lap_time}\n",
    "    df_data = DataFrame.from_dict(collected_data).set_index('episode')\n",
    "    \n",
    "    df_name = 'data-episode-%s.pkl' % episode\n",
    "    #location = '%s/collected_data/raw_data/%s' % (os.getcwd(),df_name)\n",
    "    location = 'C:\\\\Users\\\\studwilksa2535\\\\Desktop\\\\DonkeyCarAI\\\\evaluation\\\\vector\\\\raw_data\\\\%s' % df_name\n",
    "    df_data.to_pickle(location)"
   ]
  },
  {
   "cell_type": "code",
   "execution_count": 7,
   "metadata": {},
   "outputs": [
    {
     "name": "stdout",
     "output_type": "stream",
     "text": [
      "vector space is initialized\n",
      "loading camera parameters\n"
     ]
    }
   ],
   "source": [
    "vector_space = birds_eye_vector_space.Vector_space(ANCHOR_POINTS, ROAD_ROI, WARPED_IMAGE_SHAPE, WARPED_IMAGE_HEIGHT, WARPED_IMAGE_WIDTH, NUMBER_OF_DEPTH_LAYERS)"
   ]
  },
  {
   "cell_type": "code",
   "execution_count": 8,
   "metadata": {},
   "outputs": [
    {
     "data": {
      "text/plain": [
       "'C:\\\\Users\\\\studwilksa2535\\\\Desktop\\\\DonkeyCarAI\\\\Master-Thesis-Development-of-a-Deep-RL-Model-for-simulated-Driving-2D-Vector-Space\\\\docker\\\\src'"
      ]
     },
     "execution_count": 8,
     "metadata": {},
     "output_type": "execute_result"
    }
   ],
   "source": [
    "os.getcwd()"
   ]
  },
  {
   "cell_type": "code",
   "execution_count": 9,
   "metadata": {},
   "outputs": [],
   "source": [
    "class DQNAgent:\n",
    "    \n",
    "    def __init__(self, state_size, action_size):\n",
    "        self.t = 0\n",
    "        self.max_Q = 0\n",
    "        self.train = True\n",
    "        # Set to True to train on images with segmented lane lines\n",
    "        self.lane_detection = False\n",
    "        \n",
    "        # Huber loss\n",
    "        self.huber_loss = tf.keras.losses.Huber(reduction=tf.keras.losses.Reduction.SUM)\n",
    "        \n",
    "        # Get size of state and action\n",
    "        self.state_size = state_size\n",
    "        self.action_size = action_size\n",
    "        \n",
    "        # CNN Input\n",
    "        #self.input_shape = (VECTOR_SPACE_IMAGE_CHANNELS, VECTOR_SPACE_IMAGE_ROWS, VECTOR_SPACE_IMAGE_COLUMNS, 4)   # == 4 * (50, 100, 1); keras: (1,50,100,4)\n",
    "        self.input_shape = (1, VECTOR_SPACE_IMAGE_ROWS, VECTOR_SPACE_IMAGE_COLUMNS, VECTOR_SPACE_IMAGE_CHANNELS)   # == 4 * (50, 100, 1); keras: (1,50,100,4)\n",
    "        \n",
    "        # These are hyper parameters for the DQN\n",
    "        self.discount_factor = 0.99\n",
    "        self.learning_rate = 1e-4\n",
    "        if (self.train):\n",
    "            self.epsilon = 1.0\n",
    "            self.initial_epsilon = 1.0\n",
    "        else:\n",
    "            self.epsilon = 1e-6\n",
    "            self.initial_epsilon = 1e-6\n",
    "        self.epsilon_min = 0.02\n",
    "        self.batch_size = 512\n",
    "        self.train_start = 100\n",
    "        self.explore = 10000\n",
    "        \n",
    "        # Create replay memory using deque\n",
    "        self.memory = deque(maxlen=10000)\n",
    "        \n",
    "        # Create main model and target model                # Double DQN !!!!!!!!!!!!!!!!!!!!!!!!!!!!!!!!!!!!!!!!!\n",
    "        self.model = self.build_model()\n",
    "        self.target_model = self.build_model()\n",
    "\n",
    "        # Copy the model to target model\n",
    "        # --> initialize the target model so that the parameters of model & target model to be same\n",
    "        self.update_target_model()\n",
    "\n",
    "    def build_model(self):\n",
    "        model = keras.Sequential([\n",
    "            layers.Conv2D(filters=32, strides=(4, 4),kernel_size=8, padding='same', activation='relu', input_shape=(self.input_shape[1:])),\n",
    "            layers.Conv2D(filters=64, strides=(2, 2),kernel_size=4, padding='same', activation='relu'),\n",
    "            layers.Conv2D(filters=64, strides=(1, 1),kernel_size=3, padding='same', activation='relu'),\n",
    "            layers.Flatten(),\n",
    "            layers.Dense(units=512,activation='relu'),\n",
    "            layers.Dense(units=512,activation='relu'),\n",
    "            layers.Dense(units=15,activation='linear'),\n",
    "        ])\n",
    "        optimizer = tf.keras.optimizers.Adam(learning_rate=self.learning_rate)\n",
    "        model.compile(loss='mse', optimizer=optimizer)\n",
    "        return model\n",
    "    \n",
    "    def calculate_loss(self, y_true, y_pred):    \n",
    "        y_pred = tf.convert_to_tensor_v2(y_pred)\n",
    "        y_true = tf.cast(y_true, y_pred.dtype)\n",
    "        return tf.reduce_mean(math_ops.square(y_pred - y_true), axis=-1)\n",
    "    \n",
    "    def update_target_model(self):\n",
    "        self.target_model.set_weights(self.model.get_weights())\n",
    "\n",
    "    # Get action from model using epsilon-greedy policy\n",
    "    def get_action(self, s_t):\n",
    "        #if np.random.rand() <= self.epsilon:\n",
    "        #    #print(\"Return Random Value\")\n",
    "        #    #return random.randrange(self.action_size)\n",
    "        #    return np.random.uniform(-1,1)\n",
    "        #else:\n",
    "        #    #print(\"Return Max Q Prediction\")\n",
    "        #    q_value = self.model.predict(s_t)\n",
    "        #    # Convert q array to steering value\n",
    "        #    return linear_unbin(q_value[0])\n",
    "        q_value = self.model.predict(s_t)\n",
    "        # Convert q array to steering value\n",
    "        return linear_unbin(q_value[0])\n",
    "\n",
    "    def replay_memory(self, state, action, reward, next_state, done):\n",
    "        self.memory.append((state, action, reward, next_state, done))\n",
    "        #if self.epsilon > self.epsilon_min:\n",
    "        #    #self.epsilon *= self.epsilon_decay\n",
    "        #    self.epsilon -= (self.initial_epsilon - self.epsilon_min) / self.explore\n",
    "\n",
    "    def train_replay(self):\n",
    "        if len(self.memory) < self.train_start:\n",
    "            return\n",
    "        \n",
    "        # Epsilion decay over time/amount of trainings\n",
    "        if self.epsilon > self.epsilon_min:\n",
    "            #self.epsilon *= self.epsilon_decay\n",
    "            #self.epsilon -= (self.initial_epsilon - self.epsilon_min) / self.explore\n",
    "            self.epsilon -= 0.00025\n",
    "            \n",
    "        batch_size = min(self.batch_size, len(self.memory))\n",
    "        minibatch = random.sample(self.memory, batch_size)\n",
    "\n",
    "        state_t, action_t, reward_t, state_t1, terminal = zip(*minibatch)\n",
    "        #print('Starting training\\nstate_t: %s\\naction_t: %s\\nreward_t: %s\\nstate_1: %s\\nterminal: %s' % (len(state_t), len(action_t), len(reward_t), len(state_t1), len(terminal)))\n",
    "        state_t = np.concatenate(state_t)\n",
    "        state_t1 = np.concatenate(state_t1)\n",
    "        #print('Concat:\\nstate: %s\\nstate_t1: %s' % (state_t, state_t1))\n",
    "        targets = self.model.predict(state_t)\n",
    "        self.max_Q = np.max(targets[0])\n",
    "        target_val = self.model.predict(state_t1)\n",
    "        target_val_ = self.target_model.predict(state_t1)\n",
    "        for i in range(batch_size):\n",
    "            if terminal[i]:\n",
    "                targets[i][action_t[i]] = reward_t[i]\n",
    "            else:\n",
    "                a = np.argmax(target_val[i])\n",
    "                targets[i][action_t[i]] = reward_t[i] + self.discount_factor * (target_val_[i][a])\n",
    "\n",
    "        \n",
    "        # train on the current batch and return a dictionary with the loss and so on\n",
    "        #metrics = self.model.train_on_batch(x=state_t, y=targets, reset_metrics=True, return_dict=True)           \n",
    "        metrics = self.model.train_on_batch(x=state_t, y=targets, reset_metrics=False, return_dict=True) #reset Metrix different\n",
    "        return metrics['loss']\n",
    "        \n",
    "    def load_model(self, name):\n",
    "        self.model.load_weights(name)\n",
    "\n",
    "    # Save the model which is under training\n",
    "    def save_model(self, name):\n",
    "        self.model.save_weights(name)"
   ]
  },
  {
   "cell_type": "code",
   "execution_count": 10,
   "metadata": {},
   "outputs": [],
   "source": [
    "def linear_bin(a):\n",
    "    \"\"\"\n",
    "    Convert a value to a categorical array.\n",
    "\n",
    "    Parameters\n",
    "    ----------\n",
    "    a : int or float\n",
    "        A value between -1 and 1\n",
    "\n",
    "    Returns\n",
    "    -------\n",
    "    list of int\n",
    "        A list of length 15 with one item set to 1, which represents the linear value, and all other items set to 0.\n",
    "    \"\"\"\n",
    "    a = a + 1\n",
    "    b = round(a / (2 / 14))\n",
    "    arr = np.zeros(15)\n",
    "    arr[int(b)] = 1\n",
    "    return arr"
   ]
  },
  {
   "cell_type": "code",
   "execution_count": 11,
   "metadata": {},
   "outputs": [],
   "source": [
    "def linear_unbin(arr):\n",
    "    \"\"\"\n",
    "    Convert a categorical array to value.\n",
    "\n",
    "    See Also\n",
    "    --------\n",
    "    linear_bin\n",
    "    \"\"\"\n",
    "    if not len(arr) == 15:\n",
    "        raise ValueError('Illegal array length, must be 15')\n",
    "    b = np.argmax(arr)\n",
    "    a = b * (2 / 14) - 1\n",
    "    return a"
   ]
  },
  {
   "cell_type": "markdown",
   "metadata": {},
   "source": [
    "# Creating the environment"
   ]
  },
  {
   "cell_type": "code",
   "execution_count": 12,
   "metadata": {},
   "outputs": [
    {
     "name": "stderr",
     "output_type": "stream",
     "text": [
      "INFO:gym_donkeycar.core.client:connecting to localhost:9091 \n",
      "C:\\Users\\studwilksa2535\\AppData\\Roaming\\Python\\Python38\\site-packages\\gym\\spaces\\box.py:84: UserWarning: \u001b[33mWARN: Box bound precision lowered by casting to float32\u001b[0m\n",
      "  logger.warn(f\"Box bound precision lowered by casting to {self.dtype}\")\n",
      "WARNING:gym_donkeycar.envs.donkey_sim:waiting for sim to start..\n"
     ]
    },
    {
     "name": "stdout",
     "output_type": "stream",
     "text": [
      "starting DonkeyGym env\n",
      "Setting default: start_delay 5.0\n",
      "Setting default: max_cte 5.0\n",
      "Setting default: frame_skip 1\n",
      "Setting default: cam_resolution (120, 160, 3)\n",
      "Setting default: log_level 20\n",
      "Setting default: host localhost\n",
      "Setting default: port 9091\n",
      "loading scene generated_road\n"
     ]
    },
    {
     "name": "stderr",
     "output_type": "stream",
     "text": [
      "INFO:gym_donkeycar.envs.donkey_sim:on need car config\n",
      "INFO:gym_donkeycar.envs.donkey_sim:sending car config.\n",
      "INFO:gym_donkeycar.envs.donkey_sim:done sending cam config. {'img_w': '320', 'img_h': '200', 'img_d': '1', 'img_enc': 'PNG', 'fov': '90', 'fish_eye_x': '0.0', 'fish_eye_y': '0.0', 'offset_x': '0.0', 'offset_y': '0.0', 'offset_z': '0.0', 'rot_x': '0'}\n"
     ]
    }
   ],
   "source": [
    "#%% SET UP ENVIRONMENT\n",
    "# Normal one \n",
    "#os.environ['DONKEY_SIM_PATH'] = \"/home/zamy/masterthesis/DonkeySimLinux/donkey_sim.x86_64\"\n",
    "os.environ['DONKEY_SIM_PATH'] = \"C:\\\\Users\\\\studwilksa2535\\\\Desktop\\\\DonkeyCarAI\\\\test\\\\DonkeySimWin\\\\donkey_sim.exe\"\n",
    "os.environ['DONKEY_SIM_PORT'] = str(9091)\n",
    "os.environ['DONKEY_SIM_HEADLESS'] = str(0) # \"1\" is headless\n",
    "\n",
    "CAMERA_CONF = {'cam_config':{'img_w': '320',\n",
    "                        'img_h': '200',\n",
    "                        'img_d': '1',   # 3 for colored Tensor image\n",
    "                        'img_enc': 'PNG', \n",
    "                        'fov': '90', \n",
    "                        'fish_eye_x': '0.0', \n",
    "                        'fish_eye_y': '0.0', \n",
    "                        'offset_x': '0.0', \n",
    "                        'offset_y': '0.0', \n",
    "                        'offset_z': '0.0', \n",
    "                        'rot_x': '0'}}\n",
    "# Other tracks\n",
    "#env = gym.make(\"donkey-generated-track-v0\",conf=CAMERA_CONF)\n",
    "\n",
    "# TRACKS TRACKS - TKarmer Tracks\n",
    "#env = gym.make(\"donkey-generated-track-v0\",conf=CAMERA_CONF) #,conf=config\n",
    "# Random track, but the reward is kinda not working, IF THE REWARD WORKS IT IS KINDA RANDOM !!, this maybe debends on the environment\n",
    "\n",
    "env = gym.make(\"donkey-generated-roads-v0\", conf=CAMERA_CONF) #,conf=config\n",
    "#env = gym.make(\"donkey-generated-track-v0\", conf=CAMERA_CONF)\n",
    "\n",
    "# Mini Monaco Track\n",
    "#env = gym.make(\"donkey-minimonaco-track-v0\",conf=CAMERA_CONF) #,conf=config\n",
    "#env = gym.make(\"donkey-generated-track-v0\") #,conf=config\n",
    "#env = gym.wrappers.ResizeObservation(env,(200,320))"
   ]
  },
  {
   "cell_type": "markdown",
   "metadata": {},
   "source": [
    "# Evaluation of the proposed model"
   ]
  },
  {
   "cell_type": "code",
   "execution_count": 13,
   "metadata": {},
   "outputs": [
    {
     "name": "stdout",
     "output_type": "stream",
     "text": [
      "EPISODE: 1 | TIME: 328.1584737300873 s | REWARD: -49.06553603314194 | FRAMES: 3294 | QMAX: 0 | EPSILON: 1.0 | CTE: 2.119683563961455 | LOSS: 0.0\n",
      "EPISODE: 2 | TIME: 362.8265919685364 s | REWARD: 37.736264700964156 | FRAMES: 3680 | QMAX: 0 | EPSILON: 1.0 | CTE: 0.22446179815180967 | LOSS: 0.0\n",
      "EPISODE: 3 | TIME: 286.48264336586 s | REWARD: 3.309099344102501 | FRAMES: 2958 | QMAX: 0 | EPSILON: 1.0 | CTE: 0.9827837344445921 | LOSS: 0.0\n",
      "EPISODE: 4 | TIME: 362.4611864089966 s | REWARD: 38.16618770647217 | FRAMES: 3748 | QMAX: 0 | EPSILON: 1.0 | CTE: 0.2214163467994957 | LOSS: 0.0\n",
      "EPISODE: 5 | TIME: 362.37082958221436 s | REWARD: 38.6282558160361 | FRAMES: 3746 | QMAX: 0 | EPSILON: 1.0 | CTE: 0.20517271004914617 | LOSS: 0.0\n",
      "EPISODE: 6 | TIME: 363.6605362892151 s | REWARD: 35.992360213736724 | FRAMES: 3749 | QMAX: 0 | EPSILON: 1.0 | CTE: 0.24898902797805522 | LOSS: 0.0\n",
      "EPISODE: 7 | TIME: 288.5123596191406 s | REWARD: 10.153786760585527 | FRAMES: 2976 | QMAX: 0 | EPSILON: 1.0 | CTE: 0.8046753870152555 | LOSS: 0.0\n",
      "EPISODE: 8 | TIME: 363.11208415031433 s | REWARD: 39.30394157607719 | FRAMES: 3750 | QMAX: 0 | EPSILON: 1.0 | CTE: 0.20953019311527943 | LOSS: 0.0\n",
      "EPISODE: 9 | TIME: 364.59551882743835 s | REWARD: 37.61135379708777 | FRAMES: 3762 | QMAX: 0 | EPSILON: 1.0 | CTE: 0.22086326591554226 | LOSS: 0.0\n",
      "EPISODE: 10 | TIME: 343.8074722290039 s | REWARD: -12.030442438111143 | FRAMES: 3548 | QMAX: 0 | EPSILON: 1.0 | CTE: 1.3237463019313458 | LOSS: 0.0\n",
      "EPISODE: 11 | TIME: 363.34049344062805 s | REWARD: 36.9197658181175 | FRAMES: 3755 | QMAX: 0 | EPSILON: 1.0 | CTE: 0.23363956637310015 | LOSS: 0.0\n",
      "EPISODE: 12 | TIME: 34.251171588897705 s | REWARD: -30.649615886851045 | FRAMES: 351 | QMAX: 0 | EPSILON: 1.0 | CTE: 1.7024550741056992 | LOSS: 0.0\n",
      "EPISODE: 13 | TIME: 364.51263189315796 s | REWARD: 34.80770147873882 | FRAMES: 3758 | QMAX: 0 | EPSILON: 1.0 | CTE: 0.2794261662807879 | LOSS: 0.0\n",
      "EPISODE: 14 | TIME: 359.4649302959442 s | REWARD: -78.6334915830036 | FRAMES: 3705 | QMAX: 0 | EPSILON: 1.0 | CTE: 2.754635804021141 | LOSS: 0.0\n",
      "EPISODE: 15 | TIME: 365.92964005470276 s | REWARD: 37.23988836487273 | FRAMES: 3770 | QMAX: 0 | EPSILON: 1.0 | CTE: 0.2263411980325038 | LOSS: 0.0\n",
      "EPISODE: 16 | TIME: 114.41607189178467 s | REWARD: -20.28434450033653 | FRAMES: 1178 | QMAX: 0 | EPSILON: 1.0 | CTE: 1.4610816631842451 | LOSS: 0.0\n",
      "EPISODE: 17 | TIME: 298.1651601791382 s | REWARD: -42.16952078068765 | FRAMES: 3075 | QMAX: 0 | EPSILON: 1.0 | CTE: 1.9467290998968545 | LOSS: 0.0\n",
      "EPISODE: 18 | TIME: 356.60710430145264 s | REWARD: 23.106881010089058 | FRAMES: 3683 | QMAX: 0 | EPSILON: 1.0 | CTE: 0.5482410953586077 | LOSS: 0.0\n",
      "EPISODE: 19 | TIME: 195.5019931793213 s | REWARD: -115.58829276301995 | FRAMES: 2020 | QMAX: 0 | EPSILON: 1.0 | CTE: 3.5259523734055565 | LOSS: 0.0\n",
      "EPISODE: 20 | TIME: 362.7672266960144 s | REWARD: -23.504512288353602 | FRAMES: 3750 | QMAX: 0 | EPSILON: 1.0 | CTE: 1.558757500551229 | LOSS: 0.0\n",
      "saving after 20 episodes\n"
     ]
    }
   ],
   "source": [
    "# Create DQN Model\n",
    "# Get size of state and action from environment\n",
    "state_size = (VECTOR_SPACE_IMAGE_ROWS, VECTOR_SPACE_IMAGE_COLUMNS, VECTOR_SPACE_IMAGE_CHANNELS)\n",
    "action_size = 15 # Steering and Throttle\n",
    "throttle = 0.15 # Set the throttle as a constant value\n",
    "agent = DQNAgent(state_size, action_size)\n",
    "\n",
    "# loading the latest model\n",
    "#agent.load_model('C:\\\\Users\\\\studwilksa2535\\\\Desktop\\\\DonkeyCarAI\\\\models\\\\model_episode_5000.h5')\n",
    "#agent.load_model('C:\\\\Users\\\\studwilksa2535\\\\Desktop\\\\DonkeyCarAI\\\\models\\\\model_episode_10000.h5')\n",
    "#agent.load_model('C:\\\\Users\\\\studwilksa2535\\\\Desktop\\\\DonkeyCarAI\\\\models\\\\model_episode_1400.h5')\n",
    "#agent.load_model('C:\\\\Users\\\\studwilksa2535\\\\Desktop\\\\DonkeyCarAI\\\\models\\\\model_episode_5000.h5')\n",
    "agent.load_model('C:\\\\Users\\\\studwilksa2535\\\\Desktop\\\\DonkeyCarAI\\\\1505model\\\\model_episode_4400.h5')\n",
    "\n",
    "#first model that kinda works\n",
    "#agent.load_model('C:\\\\Users\\\\studwilksa2535\\\\Desktop\\\\DonkeyCarAI\\\\old_model\\\\model_episode_5000.h5')\n",
    "\n",
    "# Arrays for data collection / exploratory data analysis\n",
    "average_cte = []\n",
    "average_speed = []\n",
    "measured_time = []\n",
    "average_rewards = []\n",
    "average_loss = []\n",
    "collected_max_cte = []\n",
    "collected_lap_time = []\n",
    "\n",
    "# when a model and the data should be saved\n",
    "save_state = 20\n",
    "\n",
    "for episode in range(1,21):\n",
    "    # Resetting the environment and preprocessing the first image\n",
    "    observation = env.reset()\n",
    "    # Graykonvertion of the observation image\n",
    "    observation = cv.cvtColor(observation, cv.COLOR_BGR2GRAY)\n",
    "    observation = vector_space.image_preprocessing(observation)\n",
    "    # frame stacking (4 times)\n",
    "    obv_stack = np.stack((observation, observation, observation, observation), axis= 2)\n",
    "    # reshaping for keras\n",
    "    obv_stack = obv_stack.reshape(1, obv_stack.shape[0], obv_stack.shape[1], obv_stack.shape[2])\n",
    "    \n",
    "    #action = np.array([0,0.10]) # drive straight with small speed\n",
    "    #action = np.array([1,0.1]) # drive straight with small speed\n",
    "    \n",
    "    # summed up values for data collection\n",
    "    # cumulative values for data collection\n",
    "    total_cte = float(0)\n",
    "    total_speed = float(0)\n",
    "    total_reward = float(0)\n",
    "    total_time = time.time()\n",
    "    total_loss = float(0)\n",
    "    max_cte = int(0)\n",
    "    lap_time = int(0)\n",
    "        \n",
    "    # counting the amount of frames per episode\n",
    "    frames = int(0)\n",
    "    \n",
    "    # boolean that describes if the env is done with this episode\n",
    "    done = False\n",
    "    while not done:\n",
    "        # incrementing the amount of frames per episode\n",
    "        frames += 1\n",
    "        \n",
    "        # Making a prediction for the current state\n",
    "        # and getting the information form the next step\n",
    "        steering = agent.get_action(obv_stack)\n",
    "        action = [steering, throttle]\n",
    "        next_observation, reward, done, info = env.step(action)\n",
    "        # Graykonvertion of the observation image\n",
    "        next_observation = cv.cvtColor(next_observation, cv.COLOR_BGR2GRAY)\n",
    "        \n",
    "        # printing current 'CTE'\n",
    "        #print('CTE: %s' % info['cte'])\n",
    "        \n",
    "        # preprocessing the new observation\n",
    "        next_observation_show = vector_space.image_preprocessing(next_observation)\n",
    "        # reshaping for keras\n",
    "        #next_observation = next_observation_show.reshape(1, next_observation_show.shape[0], next_observation_show.shape[1], 1)\n",
    "        # appending to the observation stack\n",
    "        #obv_stack = np.append(next_observation, obv_stack[:, :, :, :3], axis=3)\n",
    "        \n",
    "        obv_stack_t1 = np.stack([next_observation_show, obv_stack[0,:,:,0],obv_stack[0,:,:,1],obv_stack[0,:,:,2]], axis=2)\n",
    "        obv_stack_t1 = obv_stack_t1.reshape(1, obv_stack_t1.shape[0], obv_stack_t1.shape[1], obv_stack_t1.shape[2])\n",
    "                \n",
    "        # saving the sample <s, a, r, s'> to the replay memory\n",
    "        #agent.replay_memory(obv_stack, np.argmax(linear_bin(steering)), reward, obv_stack_t1, done)\n",
    "        \n",
    "        current_cte = abs(info['cte'])\n",
    "        # punish and reward for a low or high 'CTE' with the logarithmic function\n",
    "        if current_cte < .25:\n",
    "            reward += abs(np.log(.10)) * 20\n",
    "        elif current_cte >= .25 and current_cte < .5:\n",
    "            reward += current_cte * 10\n",
    "        elif current_cte >= .5 and current_cte < 1: \n",
    "            reward += abs(np.log(current_cte))\n",
    "        elif current_cte >= 1 and current_cte < 2: \n",
    "            reward -= abs(current_cte) * 10\n",
    "        elif current_cte >= 2 and current_cte < 3: \n",
    "            reward -= abs(current_cte) * 20\n",
    "        elif current_cte >= 3 and current_cte < 4: \n",
    "            reward -= abs(current_cte) * 30\n",
    "        elif current_cte >=4:\n",
    "            reward -= abs(current_cte) * 40\n",
    "                    \n",
    "        # if the car leaves the track punish it\n",
    "        if done:\n",
    "            reward -= 250\n",
    "        \n",
    "        # training the DDQN, if training is enabled\n",
    "        #if agent.train:\n",
    "        #    loss = agent.train_replay()\n",
    "        #    if loss != None:\n",
    "        #        total_loss += loss\n",
    "        #        #print('loss: %s ' % (total_loss / frames))\n",
    "        \n",
    "        # overwriting the stack and incrementing the time/frame counter\n",
    "        obv_stack = obv_stack_t1\n",
    "        agent.t += 1       \n",
    "        \n",
    "        # adding up the collected data\n",
    "        total_cte += current_cte\n",
    "        total_speed += info['speed']\n",
    "        total_reward += reward\n",
    "        # update if there is any change in incrementation \n",
    "        if max_cte < current_cte:\n",
    "            max_cte = current_cte\n",
    "        if lap_time < info['last_lap_time']:\n",
    "            lap_time = info['last_lap_time']\n",
    "            \n",
    "        cv.imshow('vec img', next_observation_show)\n",
    "\n",
    "        # Graykonvertion of the observation image\n",
    "        #observation = cv.cvtColor(observation, cv.COLOR_BGR2GRAY)\n",
    "        \n",
    "        # Image preprocessing\n",
    "        #vec_image = vector_space.image_preprocessing(observation)\n",
    "        \n",
    "        #print('REWARD: %s' % reward)\n",
    "        \n",
    "        #cv.imshow('vec img', vec_image)\n",
    "        \n",
    "        #break       # TODO: DELTE LATER\n",
    "        if cv.waitKey(1) & 0xFF == ord('q'):\n",
    "            cv.destroyAllWindows()\n",
    "            break\n",
    "    \n",
    "    # Training after each episode\n",
    "    #if agent.train:    \n",
    "    #    total_loss = agent.train_replay()\n",
    "    #    #if loss != None:\n",
    "    #    #    total_loss = loss\n",
    "    \n",
    "    \n",
    "    # AFTER this Episode & the environment returns True for the done variable\n",
    "    # updating the target DDQN\n",
    "    #agent.update_target_model()\n",
    "    \n",
    "    # calculating the average loss in this episode\n",
    "    #episode_loss = total_loss.copy() #/ frames\n",
    "    episode_cte = total_cte / frames\n",
    "    episode_reward = total_reward / frames\n",
    "    \n",
    "    # updating the time parameter\n",
    "    total_time = abs(total_time - time.time())\n",
    "    \n",
    "    # appending the collected data\n",
    "    average_cte.append(episode_cte)\n",
    "    average_speed.append(total_speed / frames)\n",
    "    measured_time.append(total_time)\n",
    "    average_rewards.append(episode_reward)\n",
    "    average_loss.append(total_loss)\n",
    "    collected_max_cte.append(max_cte)\n",
    "    collected_lap_time.append(lap_time) \n",
    "    \n",
    "    # Testing of saving the plot\n",
    "    #if episode % 3 == 0 and episode != 0:\n",
    "    #    save_plot(colleted_rewards, 'Reward', episode)\n",
    "    #    cv.destroyAllWindows()\n",
    "    #    break\n",
    "    \n",
    "    # Print episode information    \n",
    "    print('EPISODE: %s | TIME: %s s | REWARD: %s | FRAMES: %s | QMAX: %s | EPSILON: %s | CTE: %s | LOSS: %s' % (episode, total_time, episode_reward, frames, str(agent.max_Q), agent.epsilon, episode_cte, total_loss))    \n",
    "    \n",
    "    if episode % save_state == 0 and episode != 0:\n",
    "        print('saving after %s episodes' % save_state)\n",
    "        # saving the model\n",
    "        #agent.save_model('C:\\\\Users\\\\studwilksa2535\\\\Desktop\\\\DonkeyCarAI\\\\models\\\\model_episode_%s.h5' % episode)        \n",
    "        \n",
    "        # Saving the data as plots\n",
    "        save_plot(average_rewards, 'Reward', episode)\n",
    "        save_plot(average_cte, 'Average cte', episode)\n",
    "        save_plot(collected_max_cte, 'Max cte', episode)\n",
    "        save_plot(measured_time, 'Time', episode)\n",
    "        save_plot(average_loss, 'Loss', episode)\n",
    "        save_plot(collected_lap_time, 'Lap Time', episode)\n",
    "        \n",
    "        # Saving the collected data\n",
    "        save_data_as_dataframe(episode, average_rewards, average_loss, measured_time, collected_max_cte, average_cte, collected_lap_time)\n",
    "    \n",
    "    # closing all cv windows\n",
    "    cv.destroyAllWindows()\n",
    "\n",
    "# closing all cv windows\n",
    "cv.destroyAllWindows()\n",
    "# Close the enviroment\n",
    "#env.close()"
   ]
  },
  {
   "cell_type": "markdown",
   "metadata": {},
   "source": [
    "# Evaluation of the basis model"
   ]
  },
  {
   "cell_type": "code",
   "execution_count": 14,
   "metadata": {},
   "outputs": [],
   "source": [
    "# function to save the plots\n",
    "def save_plot(data, name, episode):\n",
    "    plt.figure(figsize=(8,5), frameon=True)\n",
    "    #plt.plot([episode for episode in range(len(data))], data)\n",
    "    plt.plot([ep for ep in range(episode)], data)\n",
    "    plt.xlabel('Episodes')\n",
    "    plt.ylabel(name)\n",
    "    figplot = '%s-episode-%s.png' % (name,episode)\n",
    "    #figplot = '{}-episode-{}.png'.format(name,episode)\n",
    "    #location = '{}/saves/torch/{}'.format(os.getcwd(),figplot)\n",
    "    #location = '%s/collected_data/plots/%s' % (os.getcwd(),figplot)\n",
    "    location = 'C:\\\\Users\\\\studwilksa2535\\\\Desktop\\\\DonkeyCarAI\\\\evaluation\\\\basis\\\\plots\\\\%s' % figplot \n",
    "    plt.savefig(location, transparent=False)\n",
    "    plt.close()"
   ]
  },
  {
   "cell_type": "code",
   "execution_count": 15,
   "metadata": {},
   "outputs": [],
   "source": [
    "def save_data_as_dataframe(episode_number, reward, loss, measured_time, max_cte, average_cte, last_lap_time):\n",
    "    episodes = [i for i in range(1, episode_number+1)]\n",
    "    collected_data = {'episode': episodes, 'reward': reward, 'loss':loss, 'time': measured_time, 'max_cte': max_cte, 'average_cte': average_cte, 'lap_time': last_lap_time}\n",
    "    df_data = DataFrame.from_dict(collected_data).set_index('episode')\n",
    "    \n",
    "    df_name = 'data-episode-%s.pkl' % episode\n",
    "    #location = '%s/collected_data/raw_data/%s' % (os.getcwd(),df_name)\n",
    "    location = 'C:\\\\Users\\\\studwilksa2535\\\\Desktop\\\\DonkeyCarAI\\\\evaluation\\\\basis\\\\raw_data\\\\%s' % df_name\n",
    "    df_data.to_pickle(location)"
   ]
  },
  {
   "cell_type": "code",
   "execution_count": 16,
   "metadata": {},
   "outputs": [],
   "source": [
    "def process_image(obs):\n",
    "    #obs = cv.cvtColor(obs, cv.COLOR_BGR2GRAY)\n",
    "    obs = cv.resize(obs, (VECTOR_SPACE_IMAGE_ROWS, VECTOR_SPACE_IMAGE_COLUMNS))\n",
    "    edges = basis_my_cv.detect_edges(obs, low_threshold=50, high_threshold=150)\n",
    "    rho = 0.8\n",
    "    theta = np.pi/180\n",
    "    threshold = 25\n",
    "    min_line_len = 5\n",
    "    max_line_gap = 10\n",
    "    hough_lines = basis_my_cv.hough_lines(edges, rho, theta, threshold, min_line_len, max_line_gap)\n",
    "    left_lines, right_lines = basis_my_cv.separate_lines(hough_lines)\n",
    "    filtered_right, filtered_left = [],[]\n",
    "    if len(left_lines):\n",
    "        filtered_left = basis_my_cv.reject_outliers(left_lines, cutoff=(-30.0, -0.1), lane='left')\n",
    "    if len(right_lines):\n",
    "        filtered_right = basis_my_cv.reject_outliers(right_lines,  cutoff=(0.1, 30.0), lane='right')\n",
    "    lines = []\n",
    "    if len(filtered_left) and len(filtered_right):\n",
    "        lines = np.expand_dims(np.vstack((np.array(filtered_left),np.array(filtered_right))),axis=0).tolist()\n",
    "    elif len(filtered_left):\n",
    "        lines = np.expand_dims(np.expand_dims(np.array(filtered_left),axis=0),axis=0).tolist()\n",
    "    elif len(filtered_right):\n",
    "        lines = np.expand_dims(np.expand_dims(np.array(filtered_right),axis=0),axis=0).tolist()\n",
    "    ret_img = np.zeros((80,80))\n",
    "    if len(lines):\n",
    "        try:\n",
    "            basis_my_cv.draw_lines(ret_img, lines, thickness=1)\n",
    "        except:\n",
    "            pass\n",
    "    return ret_img"
   ]
  },
  {
   "cell_type": "code",
   "execution_count": 17,
   "metadata": {},
   "outputs": [],
   "source": [
    "# Hyperparemters for the basis models\n",
    "ANCHOR_POINTS = 8\n",
    "ROAD_ROI = np.array([(120,90),(200,90),(0,200),(320,200)],dtype='float32')\n",
    "WARPED_IMAGE_SHAPE = np.array([[10,320],[0,0],[200,0],[200,310]],np.int32)            # NEW IMAGE Shape after Warping !!!!!!!!!!!!!!!!!!!!!!!!!!!!!!!!!!!!!!!!!!!!\n",
    "WARPED_IMAGE_HEIGHT = 320\n",
    "WARPED_IMAGE_WIDTH = 200\n",
    "NUMBER_OF_DEPTH_LAYERS = 50\n",
    "\n",
    "VECTOR_SPACE_IMAGE_ROWS = 80\n",
    "VECTOR_SPACE_IMAGE_COLUMNS = 80\n",
    "VECTOR_SPACE_IMAGE_CHANNELS = 4 # 4*(50,100) stacked frames"
   ]
  },
  {
   "cell_type": "code",
   "execution_count": 18,
   "metadata": {},
   "outputs": [
    {
     "name": "stdout",
     "output_type": "stream",
     "text": [
      "EPISODE: 1 | TIME: 69.99712920188904 s | REWARD: 17.495564682204506 | FRAMES: 721 | QMAX: 0 | EPSILON: 1.0 | CTE: 0.41315159447101235 | LOSS: 0.0\n"
     ]
    },
    {
     "name": "stderr",
     "output_type": "stream",
     "text": [
      "C:\\Users\\studwilksa2535\\Desktop\\DonkeyCarAI\\Master-Thesis-Development-of-a-Deep-RL-Model-for-simulated-Driving-2D-Vector-Space\\docker\\src\\basis_my_cv.py:30: RuntimeWarning: divide by zero encountered in int_scalars\n",
      "  return (y1 - y2) / (x1 - x2)\n"
     ]
    },
    {
     "name": "stdout",
     "output_type": "stream",
     "text": [
      "EPISODE: 2 | TIME: 35.890034198760986 s | REWARD: 6.391769191497976 | FRAMES: 373 | QMAX: 0 | EPSILON: 1.0 | CTE: 0.5605027417750674 | LOSS: 0.0\n",
      "EPISODE: 3 | TIME: 194.37161827087402 s | REWARD: -106.92109094604596 | FRAMES: 2009 | QMAX: 0 | EPSILON: 1.0 | CTE: 3.0326590892681975 | LOSS: 0.0\n",
      "EPISODE: 4 | TIME: 177.6965548992157 s | REWARD: -13.524827686849635 | FRAMES: 1837 | QMAX: 0 | EPSILON: 1.0 | CTE: 1.0402778165780235 | LOSS: 0.0\n",
      "EPISODE: 5 | TIME: 271.5369064807892 s | REWARD: 8.384835412608165 | FRAMES: 2809 | QMAX: 0 | EPSILON: 1.0 | CTE: 0.6036213152507794 | LOSS: 0.0\n",
      "EPISODE: 6 | TIME: 94.01104092597961 s | REWARD: 13.893350365013058 | FRAMES: 971 | QMAX: 0 | EPSILON: 1.0 | CTE: 0.49299300432297694 | LOSS: 0.0\n",
      "EPISODE: 7 | TIME: 263.2858819961548 s | REWARD: -49.00994969553873 | FRAMES: 2721 | QMAX: 0 | EPSILON: 1.0 | CTE: 1.8072499988407507 | LOSS: 0.0\n",
      "EPISODE: 8 | TIME: 176.61191320419312 s | REWARD: -99.124108164338 | FRAMES: 1825 | QMAX: 0 | EPSILON: 1.0 | CTE: 2.8468124135184003 | LOSS: 0.0\n",
      "EPISODE: 9 | TIME: 304.96972703933716 s | REWARD: -34.93024849022638 | FRAMES: 3158 | QMAX: 0 | EPSILON: 1.0 | CTE: 1.5101415738240684 | LOSS: 0.0\n",
      "EPISODE: 10 | TIME: 187.31902837753296 s | REWARD: -128.1334148797873 | FRAMES: 1939 | QMAX: 0 | EPSILON: 1.0 | CTE: 3.465847680039962 | LOSS: 0.0\n",
      "EPISODE: 11 | TIME: 359.39461064338684 s | REWARD: 17.94408056797771 | FRAMES: 3718 | QMAX: 0 | EPSILON: 1.0 | CTE: 0.3891845304556053 | LOSS: 0.0\n",
      "EPISODE: 12 | TIME: 187.08900570869446 s | REWARD: -101.91277728241378 | FRAMES: 1936 | QMAX: 0 | EPSILON: 1.0 | CTE: 2.9269178478570734 | LOSS: 0.0\n",
      "EPISODE: 13 | TIME: 270.34046936035156 s | REWARD: -93.61976706208455 | FRAMES: 2800 | QMAX: 0 | EPSILON: 1.0 | CTE: 2.7215881535570006 | LOSS: 0.0\n",
      "EPISODE: 14 | TIME: 203.04627132415771 s | REWARD: -2.9008717773464197 | FRAMES: 2100 | QMAX: 0 | EPSILON: 1.0 | CTE: 0.8483779268724295 | LOSS: 0.0\n",
      "EPISODE: 15 | TIME: 260.0661816596985 s | REWARD: 18.451620128618046 | FRAMES: 2693 | QMAX: 0 | EPSILON: 1.0 | CTE: 0.38153403686981097 | LOSS: 0.0\n",
      "EPISODE: 16 | TIME: 64.25368928909302 s | REWARD: 15.534212487591702 | FRAMES: 665 | QMAX: 0 | EPSILON: 1.0 | CTE: 0.4439015988264667 | LOSS: 0.0\n",
      "EPISODE: 17 | TIME: 112.88000702857971 s | REWARD: -61.82034569324548 | FRAMES: 1170 | QMAX: 0 | EPSILON: 1.0 | CTE: 2.0678368996444623 | LOSS: 0.0\n",
      "EPISODE: 18 | TIME: 357.5608024597168 s | REWARD: 18.914417542456228 | FRAMES: 3698 | QMAX: 0 | EPSILON: 1.0 | CTE: 0.381832502083332 | LOSS: 0.0\n",
      "EPISODE: 19 | TIME: 63.90978932380676 s | REWARD: 12.321680050474425 | FRAMES: 662 | QMAX: 0 | EPSILON: 1.0 | CTE: 0.5120899617222054 | LOSS: 0.0\n",
      "EPISODE: 20 | TIME: 362.6317801475525 s | REWARD: -4.801688224706294 | FRAMES: 3753 | QMAX: 0 | EPSILON: 1.0 | CTE: 0.8633380109620041 | LOSS: 0.0\n",
      "saving after 20 episodes\n"
     ]
    }
   ],
   "source": [
    "# Create DQN Model\n",
    "# Get size of state and action from environment\n",
    "state_size = (VECTOR_SPACE_IMAGE_ROWS, VECTOR_SPACE_IMAGE_COLUMNS, VECTOR_SPACE_IMAGE_CHANNELS)\n",
    "action_size = 15 # Steering and Throttle\n",
    "throttle = 0.15 # Set the throttle as a constant value\n",
    "agent = DQNAgent(state_size, action_size)\n",
    "\n",
    "# loading the latest model\n",
    "#agent.load_model('C:\\\\Users\\\\studwilksa2535\\\\Desktop\\\\DonkeyCarAI\\\\models\\\\model_episode_5000.h5')\n",
    "#agent.load_model('C:\\\\Users\\\\studwilksa2535\\\\Desktop\\\\DonkeyCarAI\\\\models\\\\model_episode_10000.h5')\n",
    "#agent.load_model('C:\\\\Users\\\\studwilksa2535\\\\Desktop\\\\DonkeyCarAI\\\\models\\\\model_episode_1400.h5')\n",
    "agent.load_model('C:\\\\Users\\\\studwilksa2535\\\\Desktop\\\\DonkeyCarAI\\\\2305basis\\\\model_episode_5000.h5')\n",
    "\n",
    "#first model that kinda works\n",
    "#agent.load_model('C:\\\\Users\\\\studwilksa2535\\\\Desktop\\\\DonkeyCarAI\\\\old_model\\\\model_episode_5000.h5')\n",
    "\n",
    "# Arrays for data collection / exploratory data analysis\n",
    "average_cte = []\n",
    "average_speed = []\n",
    "measured_time = []\n",
    "average_rewards = []\n",
    "average_loss = []\n",
    "collected_max_cte = []\n",
    "collected_lap_time = []\n",
    "\n",
    "# when a model and the data should be saved\n",
    "save_state = 20\n",
    "\n",
    "for episode in range(1,21):\n",
    "    # Resetting the environment and preprocessing the first image\n",
    "    observation = env.reset()\n",
    "    # Graykonvertion of the observation image\n",
    "    #observation = cv.cvtColor(observation, cv.COLOR_BGR2GRAY)\n",
    "    #observation = vector_space.image_preprocessing(observation)\n",
    "    observation = process_image(observation)\n",
    "    # frame stacking (4 times)\n",
    "    obv_stack = np.stack((observation, observation, observation, observation), axis= 2)\n",
    "    # reshaping for keras\n",
    "    obv_stack = obv_stack.reshape(1, obv_stack.shape[0], obv_stack.shape[1], obv_stack.shape[2])\n",
    "    \n",
    "    #action = np.array([0,0.10]) # drive straight with small speed\n",
    "    #action = np.array([1,0.1]) # drive straight with small speed\n",
    "    \n",
    "    # summed up values for data collection\n",
    "    # cumulative values for data collection\n",
    "    total_cte = float(0)\n",
    "    total_speed = float(0)\n",
    "    total_reward = float(0)\n",
    "    total_time = time.time()\n",
    "    total_loss = float(0)\n",
    "    max_cte = int(0)\n",
    "    lap_time = int(0)\n",
    "        \n",
    "    # counting the amount of frames per episode\n",
    "    frames = int(0)\n",
    "    \n",
    "    # boolean that describes if the env is done with this episode\n",
    "    done = False\n",
    "    while not done:\n",
    "        # incrementing the amount of frames per episode\n",
    "        frames += 1\n",
    "        \n",
    "        # Making a prediction for the current state\n",
    "        # and getting the information form the next step\n",
    "        steering = agent.get_action(obv_stack)\n",
    "        action = [steering, throttle]\n",
    "        next_observation, reward, done, info = env.step(action)\n",
    "        # Graykonvertion of the observation image\n",
    "        next_observation = cv.cvtColor(next_observation, cv.COLOR_BGR2GRAY)\n",
    "        \n",
    "        # printing current 'CTE'\n",
    "        #print('CTE: %s' % info['cte'])\n",
    "        \n",
    "        # preprocessing the new observation\n",
    "        #next_observation_show = vector_space.image_preprocessing(next_observation)\n",
    "        next_observation_show = process_image(next_observation)\n",
    "        # reshaping for keras\n",
    "        #next_observation = next_observation_show.reshape(1, next_observation_show.shape[0], next_observation_show.shape[1], 1)\n",
    "        # appending to the observation stack\n",
    "        #obv_stack = np.append(next_observation, obv_stack[:, :, :, :3], axis=3)\n",
    "        \n",
    "        obv_stack_t1 = np.stack([next_observation_show, obv_stack[0,:,:,0],obv_stack[0,:,:,1],obv_stack[0,:,:,2]], axis=2)\n",
    "        obv_stack_t1 = obv_stack_t1.reshape(1, obv_stack_t1.shape[0], obv_stack_t1.shape[1], obv_stack_t1.shape[2])\n",
    "                \n",
    "        # saving the sample <s, a, r, s'> to the replay memory\n",
    "        #agent.replay_memory(obv_stack, np.argmax(linear_bin(steering)), reward, obv_stack_t1, done)\n",
    "        \n",
    "        current_cte = abs(info['cte'])\n",
    "        # punish and reward for a low or high 'CTE' with the logarithmic function\n",
    "        if current_cte < .25:\n",
    "            reward += abs(np.log(.10)) * 20\n",
    "        elif current_cte >= .25 and current_cte < .5:\n",
    "            reward += current_cte * 10\n",
    "        elif current_cte >= .5 and current_cte < 1: \n",
    "            reward += abs(np.log(current_cte))\n",
    "        elif current_cte >= 1 and current_cte < 2: \n",
    "            reward -= abs(current_cte) * 10\n",
    "        elif current_cte >= 2 and current_cte < 3: \n",
    "            reward -= abs(current_cte) * 20\n",
    "        elif current_cte >= 3 and current_cte < 4: \n",
    "            reward -= abs(current_cte) * 30\n",
    "        elif current_cte >=4:\n",
    "            reward -= abs(current_cte) * 40\n",
    "                    \n",
    "        # if the car leaves the track punish it\n",
    "        if done:\n",
    "            reward -= 250\n",
    "        \n",
    "        # training the DDQN, if training is enabled\n",
    "        #if agent.train:\n",
    "        #    loss = agent.train_replay()\n",
    "        #    if loss != None:\n",
    "        #        total_loss += loss\n",
    "        #        #print('loss: %s ' % (total_loss / frames))\n",
    "        \n",
    "        # overwriting the stack and incrementing the time/frame counter\n",
    "        obv_stack = obv_stack_t1\n",
    "        agent.t += 1       \n",
    "        \n",
    "        # adding up the collected data \n",
    "        total_cte += current_cte\n",
    "        total_speed += info['speed']\n",
    "        total_reward += reward\n",
    "        # update if there is any change in incrementation \n",
    "        if max_cte < current_cte:\n",
    "            max_cte = current_cte\n",
    "        if lap_time < info['last_lap_time']:\n",
    "            lap_time = info['last_lap_time']\n",
    "            \n",
    "        cv.imshow('vec img', next_observation_show)\n",
    "\n",
    "        # Graykonvertion of the observation image\n",
    "        #observation = cv.cvtColor(observation, cv.COLOR_BGR2GRAY)\n",
    "        \n",
    "        # Image preprocessing\n",
    "        #vec_image = vector_space.image_preprocessing(observation)\n",
    "        \n",
    "        #print('REWARD: %s' % reward)\n",
    "        \n",
    "        #cv.imshow('vec img', vec_image)\n",
    "        \n",
    "        #break       # TODO: DELTE LATER\n",
    "        if cv.waitKey(1) & 0xFF == ord('q'):\n",
    "            cv.destroyAllWindows()\n",
    "            break\n",
    "    \n",
    "    # Training after each episode\n",
    "    #if agent.train:    \n",
    "    #    total_loss = agent.train_replay()\n",
    "    #    #if loss != None:\n",
    "    #    #    total_loss = loss\n",
    "    \n",
    "    \n",
    "    # AFTER this Episode & the environment returns True for the done variable\n",
    "    # updating the target DDQN\n",
    "    #agent.update_target_model()\n",
    "    \n",
    "    # calculating the average loss in this episode\n",
    "    #episode_loss = total_loss.copy() #/ frames\n",
    "    episode_cte = total_cte / frames\n",
    "    episode_reward = total_reward / frames\n",
    "    \n",
    "    # updating the time parameter\n",
    "    total_time = abs(total_time - time.time())\n",
    "    \n",
    "    # appending the collected data\n",
    "    average_cte.append(episode_cte)\n",
    "    average_speed.append(total_speed / frames)\n",
    "    measured_time.append(total_time)\n",
    "    average_rewards.append(episode_reward)\n",
    "    average_loss.append(total_loss)\n",
    "    collected_max_cte.append(max_cte)\n",
    "    collected_lap_time.append(lap_time) \n",
    "    \n",
    "    # Testing of saving the plot\n",
    "    #if episode % 3 == 0 and episode != 0:\n",
    "    #    save_plot(colleted_rewards, 'Reward', episode)\n",
    "    #    cv.destroyAllWindows()\n",
    "    #    break\n",
    "    \n",
    "    # Print episode information    \n",
    "    print('EPISODE: %s | TIME: %s s | REWARD: %s | FRAMES: %s | QMAX: %s | EPSILON: %s | CTE: %s | LOSS: %s' % (episode, total_time, episode_reward, frames, str(agent.max_Q), agent.epsilon, episode_cte, total_loss))    \n",
    "    \n",
    "    if episode % save_state == 0 and episode != 0:\n",
    "        print('saving after %s episodes' % save_state)\n",
    "        # saving the model\n",
    "        #agent.save_model('C:\\\\Users\\\\studwilksa2535\\\\Desktop\\\\DonkeyCarAI\\\\models\\\\model_episode_%s.h5' % episode)        \n",
    "        \n",
    "        # Saving the data as plots\n",
    "        save_plot(average_rewards, 'Reward', episode)\n",
    "        save_plot(average_cte, 'Average cte', episode)\n",
    "        save_plot(collected_max_cte, 'Max cte', episode)\n",
    "        save_plot(measured_time, 'Time', episode)\n",
    "        save_plot(average_loss, 'Loss', episode)\n",
    "        save_plot(collected_lap_time, 'Lap Time', episode)\n",
    "        \n",
    "        # Saving the collected data\n",
    "        save_data_as_dataframe(episode, average_rewards, average_loss, measured_time, collected_max_cte, average_cte, collected_lap_time)\n",
    "    \n",
    "    # closing all cv windows\n",
    "    cv.destroyAllWindows()\n",
    "\n",
    "# closing all cv windows\n",
    "cv.destroyAllWindows()\n",
    "# Close the enviroment\n",
    "env.close()"
   ]
  },
  {
   "cell_type": "markdown",
   "metadata": {},
   "source": [
    "# EDA - Look into the collected data"
   ]
  },
  {
   "cell_type": "code",
   "execution_count": 44,
   "metadata": {},
   "outputs": [],
   "source": [
    "import seaborn as sns\n",
    "sns.set_theme(style=\"darkgrid\")"
   ]
  },
  {
   "cell_type": "code",
   "execution_count": 2,
   "metadata": {},
   "outputs": [],
   "source": [
    "path_evaluation = 'C:\\\\Users\\\\studwilksa2535\\\\Desktop\\\\DonkeyCarAI\\\\evaluation\\\\'"
   ]
  },
  {
   "cell_type": "markdown",
   "metadata": {},
   "source": [
    "## Vector space data"
   ]
  },
  {
   "cell_type": "code",
   "execution_count": 3,
   "metadata": {},
   "outputs": [],
   "source": [
    "vector_data_1 = pd.read_pickle(path_evaluation + '%s' % '\\\\vector_1\\\\raw_data\\\\data-episode-100.pkl')\n",
    "vector_data_2 = pd.read_pickle(path_evaluation + '%s' % '\\\\vector_2\\\\raw_data\\\\data-episode-20.pkl')\n",
    "vector_data_3 = pd.read_pickle(path_evaluation + '%s' % '\\\\vector_3\\\\raw_data\\\\data-episode-20.pkl')\n",
    "vector_data_4 = pd.read_pickle(path_evaluation + '%s' % '\\\\vector_4\\\\raw_data\\\\data-episode-20.pkl')\n",
    "vector_data_5 = pd.read_pickle(path_evaluation + '%s' % '\\\\vector_5\\\\raw_data\\\\data-episode-20.pkl')\n",
    "vector_data_6 = pd.read_pickle(path_evaluation + '%s' % '\\\\vector_6\\\\raw_data\\\\data-episode-20.pkl')\n",
    "vector_data_7 = pd.read_pickle(path_evaluation + '%s' % '\\\\vector_7\\\\raw_data\\\\data-episode-20.pkl')"
   ]
  },
  {
   "cell_type": "code",
   "execution_count": 4,
   "metadata": {},
   "outputs": [],
   "source": [
    "# taking the absolute of the cte\n",
    "vector_data_1['average_cte'] = abs(vector_data_1['average_cte'])\n",
    "vector_data_2['average_cte'] = abs(vector_data_1['average_cte'])"
   ]
  },
  {
   "cell_type": "code",
   "execution_count": 5,
   "metadata": {},
   "outputs": [],
   "source": [
    "# appending the dataframe to one collective dataframe\n",
    "vector_data = vector_data_1.append(vector_data_2, ignore_index=True)\n",
    "vector_data = vector_data.append(vector_data_3, ignore_index=True)\n",
    "vector_data = vector_data.append(vector_data_4, ignore_index=True)\n",
    "vector_data = vector_data.append(vector_data_5, ignore_index=True)\n",
    "vector_data = vector_data.append(vector_data_6, ignore_index=True)\n",
    "vector_data = vector_data.append(vector_data_7, ignore_index=True)"
   ]
  },
  {
   "cell_type": "code",
   "execution_count": 6,
   "metadata": {},
   "outputs": [
    {
     "name": "stderr",
     "output_type": "stream",
     "text": [
      "C:\\ProgramData\\Anaconda3\\lib\\site-packages\\pandas\\core\\nanops.py:1558: DeprecationWarning: the `interpolation=` argument to percentile was renamed to `method=`, which has additional options.\n",
      "Users of the modes 'nearest', 'lower', 'higher', or 'midpoint' are encouraged to review the method they. (Deprecated NumPy 1.22)\n",
      "  return np.percentile(values, q, axis=axis, interpolation=interpolation)\n"
     ]
    },
    {
     "data": {
      "text/html": [
       "<div>\n",
       "<style scoped>\n",
       "    .dataframe tbody tr th:only-of-type {\n",
       "        vertical-align: middle;\n",
       "    }\n",
       "\n",
       "    .dataframe tbody tr th {\n",
       "        vertical-align: top;\n",
       "    }\n",
       "\n",
       "    .dataframe thead th {\n",
       "        text-align: right;\n",
       "    }\n",
       "</style>\n",
       "<table border=\"1\" class=\"dataframe\">\n",
       "  <thead>\n",
       "    <tr style=\"text-align: right;\">\n",
       "      <th></th>\n",
       "      <th>count</th>\n",
       "      <th>mean</th>\n",
       "      <th>std</th>\n",
       "      <th>min</th>\n",
       "      <th>25%</th>\n",
       "      <th>50%</th>\n",
       "      <th>75%</th>\n",
       "      <th>max</th>\n",
       "    </tr>\n",
       "  </thead>\n",
       "  <tbody>\n",
       "    <tr>\n",
       "      <th>reward</th>\n",
       "      <td>220.0</td>\n",
       "      <td>15.463285</td>\n",
       "      <td>41.267293</td>\n",
       "      <td>-121.136491</td>\n",
       "      <td>9.800690</td>\n",
       "      <td>37.530332</td>\n",
       "      <td>39.040373</td>\n",
       "      <td>42.805750</td>\n",
       "    </tr>\n",
       "    <tr>\n",
       "      <th>loss</th>\n",
       "      <td>220.0</td>\n",
       "      <td>0.000000</td>\n",
       "      <td>0.000000</td>\n",
       "      <td>0.000000</td>\n",
       "      <td>0.000000</td>\n",
       "      <td>0.000000</td>\n",
       "      <td>0.000000</td>\n",
       "      <td>0.000000</td>\n",
       "    </tr>\n",
       "    <tr>\n",
       "      <th>time</th>\n",
       "      <td>220.0</td>\n",
       "      <td>266.545393</td>\n",
       "      <td>88.578386</td>\n",
       "      <td>17.602814</td>\n",
       "      <td>201.365555</td>\n",
       "      <td>214.889176</td>\n",
       "      <td>360.925956</td>\n",
       "      <td>371.369002</td>\n",
       "    </tr>\n",
       "    <tr>\n",
       "      <th>max_cte</th>\n",
       "      <td>220.0</td>\n",
       "      <td>3.521656</td>\n",
       "      <td>1.948750</td>\n",
       "      <td>0.273381</td>\n",
       "      <td>1.332400</td>\n",
       "      <td>5.015272</td>\n",
       "      <td>5.152569</td>\n",
       "      <td>5.887750</td>\n",
       "    </tr>\n",
       "    <tr>\n",
       "      <th>average_cte</th>\n",
       "      <td>220.0</td>\n",
       "      <td>0.662324</td>\n",
       "      <td>0.977291</td>\n",
       "      <td>0.001068</td>\n",
       "      <td>0.035236</td>\n",
       "      <td>0.208530</td>\n",
       "      <td>0.829356</td>\n",
       "      <td>3.677833</td>\n",
       "    </tr>\n",
       "    <tr>\n",
       "      <th>lap_time</th>\n",
       "      <td>220.0</td>\n",
       "      <td>0.000000</td>\n",
       "      <td>0.000000</td>\n",
       "      <td>0.000000</td>\n",
       "      <td>0.000000</td>\n",
       "      <td>0.000000</td>\n",
       "      <td>0.000000</td>\n",
       "      <td>0.000000</td>\n",
       "    </tr>\n",
       "  </tbody>\n",
       "</table>\n",
       "</div>"
      ],
      "text/plain": [
       "             count        mean        std         min         25%         50%  \\\n",
       "reward       220.0   15.463285  41.267293 -121.136491    9.800690   37.530332   \n",
       "loss         220.0    0.000000   0.000000    0.000000    0.000000    0.000000   \n",
       "time         220.0  266.545393  88.578386   17.602814  201.365555  214.889176   \n",
       "max_cte      220.0    3.521656   1.948750    0.273381    1.332400    5.015272   \n",
       "average_cte  220.0    0.662324   0.977291    0.001068    0.035236    0.208530   \n",
       "lap_time     220.0    0.000000   0.000000    0.000000    0.000000    0.000000   \n",
       "\n",
       "                    75%         max  \n",
       "reward        39.040373   42.805750  \n",
       "loss           0.000000    0.000000  \n",
       "time         360.925956  371.369002  \n",
       "max_cte        5.152569    5.887750  \n",
       "average_cte    0.829356    3.677833  \n",
       "lap_time       0.000000    0.000000  "
      ]
     },
     "execution_count": 6,
     "metadata": {},
     "output_type": "execute_result"
    }
   ],
   "source": [
    "vector_data.describe().T"
   ]
  },
  {
   "cell_type": "code",
   "execution_count": 7,
   "metadata": {},
   "outputs": [
    {
     "name": "stdout",
     "output_type": "stream",
     "text": [
      "Reward: 15.46328486246697\n",
      "Time: 266.5453931667588\n",
      "CTE: 0.6623235991411974\n"
     ]
    }
   ],
   "source": [
    "# Mean of the reward\n",
    "print('Reward: %s' % vector_data['reward'].mean())\n",
    "print('Time: %s' % vector_data['time'].mean())\n",
    "print('CTE: %s' % vector_data['average_cte'].mean())"
   ]
  },
  {
   "cell_type": "markdown",
   "metadata": {},
   "source": [
    "## Basis data"
   ]
  },
  {
   "cell_type": "code",
   "execution_count": 8,
   "metadata": {},
   "outputs": [],
   "source": [
    "basis_data_1 = pd.read_pickle(path_evaluation + '%s' % '\\\\basis_1\\\\raw_data\\\\data-episode-100.pkl')\n",
    "basis_data_2 = pd.read_pickle(path_evaluation + '%s' % '\\\\basis_2\\\\raw_data\\\\data-episode-20.pkl')\n",
    "basis_data_3 = pd.read_pickle(path_evaluation + '%s' % '\\\\basis_3\\\\raw_data\\\\data-episode-20.pkl')\n",
    "basis_data_4 = pd.read_pickle(path_evaluation + '%s' % '\\\\basis_4\\\\raw_data\\\\data-episode-20.pkl')\n",
    "basis_data_5 = pd.read_pickle(path_evaluation + '%s' % '\\\\basis_5\\\\raw_data\\\\data-episode-20.pkl')\n",
    "basis_data_6 = pd.read_pickle(path_evaluation + '%s' % '\\\\basis_6\\\\raw_data\\\\data-episode-20.pkl')\n",
    "basis_data_7 = pd.read_pickle(path_evaluation + '%s' % '\\\\basis_7\\\\raw_data\\\\data-episode-20.pkl')"
   ]
  },
  {
   "cell_type": "code",
   "execution_count": 9,
   "metadata": {},
   "outputs": [],
   "source": [
    "# taking the absolute of the cte\n",
    "basis_data_1['average_cte'] = abs(basis_data_1['average_cte'])\n",
    "basis_data_2['average_cte'] = abs(basis_data_1['average_cte'])"
   ]
  },
  {
   "cell_type": "code",
   "execution_count": 10,
   "metadata": {},
   "outputs": [],
   "source": [
    "# appending the dataframe to one collective dataframe\n",
    "basis_data = basis_data_1.append(basis_data_2, ignore_index=True)\n",
    "basis_data = basis_data.append(basis_data_3, ignore_index=True)\n",
    "basis_data = basis_data.append(basis_data_4, ignore_index=True)\n",
    "basis_data = basis_data.append(basis_data_5, ignore_index=True)\n",
    "basis_data = basis_data.append(basis_data_6, ignore_index=True)\n",
    "basis_data = basis_data.append(basis_data_7, ignore_index=True)"
   ]
  },
  {
   "cell_type": "code",
   "execution_count": 11,
   "metadata": {},
   "outputs": [
    {
     "name": "stderr",
     "output_type": "stream",
     "text": [
      "C:\\ProgramData\\Anaconda3\\lib\\site-packages\\pandas\\core\\nanops.py:1558: DeprecationWarning: the `interpolation=` argument to percentile was renamed to `method=`, which has additional options.\n",
      "Users of the modes 'nearest', 'lower', 'higher', or 'midpoint' are encouraged to review the method they. (Deprecated NumPy 1.22)\n",
      "  return np.percentile(values, q, axis=axis, interpolation=interpolation)\n"
     ]
    },
    {
     "data": {
      "text/html": [
       "<div>\n",
       "<style scoped>\n",
       "    .dataframe tbody tr th:only-of-type {\n",
       "        vertical-align: middle;\n",
       "    }\n",
       "\n",
       "    .dataframe tbody tr th {\n",
       "        vertical-align: top;\n",
       "    }\n",
       "\n",
       "    .dataframe thead th {\n",
       "        text-align: right;\n",
       "    }\n",
       "</style>\n",
       "<table border=\"1\" class=\"dataframe\">\n",
       "  <thead>\n",
       "    <tr style=\"text-align: right;\">\n",
       "      <th></th>\n",
       "      <th>count</th>\n",
       "      <th>mean</th>\n",
       "      <th>std</th>\n",
       "      <th>min</th>\n",
       "      <th>25%</th>\n",
       "      <th>50%</th>\n",
       "      <th>75%</th>\n",
       "      <th>max</th>\n",
       "    </tr>\n",
       "  </thead>\n",
       "  <tbody>\n",
       "    <tr>\n",
       "      <th>reward</th>\n",
       "      <td>220.0</td>\n",
       "      <td>-11.225441</td>\n",
       "      <td>45.688271</td>\n",
       "      <td>-250.976087</td>\n",
       "      <td>-23.857951</td>\n",
       "      <td>10.483665</td>\n",
       "      <td>17.296740</td>\n",
       "      <td>19.875367</td>\n",
       "    </tr>\n",
       "    <tr>\n",
       "      <th>loss</th>\n",
       "      <td>220.0</td>\n",
       "      <td>0.000000</td>\n",
       "      <td>0.000000</td>\n",
       "      <td>0.000000</td>\n",
       "      <td>0.000000</td>\n",
       "      <td>0.000000</td>\n",
       "      <td>0.000000</td>\n",
       "      <td>0.000000</td>\n",
       "    </tr>\n",
       "    <tr>\n",
       "      <th>time</th>\n",
       "      <td>220.0</td>\n",
       "      <td>234.985940</td>\n",
       "      <td>92.252856</td>\n",
       "      <td>0.096872</td>\n",
       "      <td>195.300723</td>\n",
       "      <td>208.248866</td>\n",
       "      <td>348.824697</td>\n",
       "      <td>374.684382</td>\n",
       "    </tr>\n",
       "    <tr>\n",
       "      <th>max_cte</th>\n",
       "      <td>220.0</td>\n",
       "      <td>2.961772</td>\n",
       "      <td>2.392009</td>\n",
       "      <td>0.000364</td>\n",
       "      <td>0.333830</td>\n",
       "      <td>5.010319</td>\n",
       "      <td>5.139425</td>\n",
       "      <td>6.231914</td>\n",
       "    </tr>\n",
       "    <tr>\n",
       "      <th>average_cte</th>\n",
       "      <td>220.0</td>\n",
       "      <td>0.930438</td>\n",
       "      <td>0.863218</td>\n",
       "      <td>0.332204</td>\n",
       "      <td>0.391084</td>\n",
       "      <td>0.496881</td>\n",
       "      <td>0.989119</td>\n",
       "      <td>3.658088</td>\n",
       "    </tr>\n",
       "    <tr>\n",
       "      <th>lap_time</th>\n",
       "      <td>220.0</td>\n",
       "      <td>0.000000</td>\n",
       "      <td>0.000000</td>\n",
       "      <td>0.000000</td>\n",
       "      <td>0.000000</td>\n",
       "      <td>0.000000</td>\n",
       "      <td>0.000000</td>\n",
       "      <td>0.000000</td>\n",
       "    </tr>\n",
       "  </tbody>\n",
       "</table>\n",
       "</div>"
      ],
      "text/plain": [
       "             count        mean        std         min         25%         50%  \\\n",
       "reward       220.0  -11.225441  45.688271 -250.976087  -23.857951   10.483665   \n",
       "loss         220.0    0.000000   0.000000    0.000000    0.000000    0.000000   \n",
       "time         220.0  234.985940  92.252856    0.096872  195.300723  208.248866   \n",
       "max_cte      220.0    2.961772   2.392009    0.000364    0.333830    5.010319   \n",
       "average_cte  220.0    0.930438   0.863218    0.332204    0.391084    0.496881   \n",
       "lap_time     220.0    0.000000   0.000000    0.000000    0.000000    0.000000   \n",
       "\n",
       "                    75%         max  \n",
       "reward        17.296740   19.875367  \n",
       "loss           0.000000    0.000000  \n",
       "time         348.824697  374.684382  \n",
       "max_cte        5.139425    6.231914  \n",
       "average_cte    0.989119    3.658088  \n",
       "lap_time       0.000000    0.000000  "
      ]
     },
     "execution_count": 11,
     "metadata": {},
     "output_type": "execute_result"
    }
   ],
   "source": [
    "basis_data.describe().T"
   ]
  },
  {
   "cell_type": "code",
   "execution_count": 12,
   "metadata": {},
   "outputs": [
    {
     "name": "stdout",
     "output_type": "stream",
     "text": [
      "Reward: -11.22544084058093\n",
      "Time: 234.98593959591605\n",
      "CTE: 0.9304381635037615\n"
     ]
    }
   ],
   "source": [
    "# Mean of the reward\n",
    "print('Reward: %s' % basis_data['reward'].mean())\n",
    "print('Time: %s' % basis_data['time'].mean())\n",
    "print('CTE: %s' % basis_data['average_cte'].mean())"
   ]
  },
  {
   "cell_type": "markdown",
   "metadata": {},
   "source": [
    "## First insights\n",
    "Important Information:\n",
    "- CTE: Closer to Zero is better\n",
    "- Reward: Higher is better\n",
    "\n",
    "The comparision of the average reward & CTE shows some significant differences.\n",
    "The Vector Space model achieves a lower CTE and higher reward on the the test bench.\n",
    "The Basis model has a higher CTE and lower reward.\n",
    "\n",
    "Therefore, from the quantitaive data, it can be conlcuded that the Vector Space model is better than the basis model"
   ]
  },
  {
   "cell_type": "markdown",
   "metadata": {},
   "source": [
    "# Unpaired t-test"
   ]
  },
  {
   "cell_type": "code",
   "execution_count": 13,
   "metadata": {},
   "outputs": [
    {
     "name": "stderr",
     "output_type": "stream",
     "text": [
      "C:\\ProgramData\\Anaconda3\\lib\\site-packages\\pandas\\core\\nanops.py:1558: DeprecationWarning: the `interpolation=` argument to percentile was renamed to `method=`, which has additional options.\n",
      "Users of the modes 'nearest', 'lower', 'higher', or 'midpoint' are encouraged to review the method they. (Deprecated NumPy 1.22)\n",
      "  return np.percentile(values, q, axis=axis, interpolation=interpolation)\n"
     ]
    },
    {
     "data": {
      "text/html": [
       "<div>\n",
       "<style scoped>\n",
       "    .dataframe tbody tr th:only-of-type {\n",
       "        vertical-align: middle;\n",
       "    }\n",
       "\n",
       "    .dataframe tbody tr th {\n",
       "        vertical-align: top;\n",
       "    }\n",
       "\n",
       "    .dataframe thead th {\n",
       "        text-align: right;\n",
       "    }\n",
       "</style>\n",
       "<table border=\"1\" class=\"dataframe\">\n",
       "  <thead>\n",
       "    <tr style=\"text-align: right;\">\n",
       "      <th></th>\n",
       "      <th>count</th>\n",
       "      <th>mean</th>\n",
       "      <th>std</th>\n",
       "      <th>min</th>\n",
       "      <th>25%</th>\n",
       "      <th>50%</th>\n",
       "      <th>75%</th>\n",
       "      <th>max</th>\n",
       "    </tr>\n",
       "  </thead>\n",
       "  <tbody>\n",
       "    <tr>\n",
       "      <th>average_cte</th>\n",
       "      <td>220.0</td>\n",
       "      <td>0.662324</td>\n",
       "      <td>0.977291</td>\n",
       "      <td>0.001068</td>\n",
       "      <td>0.035236</td>\n",
       "      <td>0.208530</td>\n",
       "      <td>0.829356</td>\n",
       "      <td>3.677833</td>\n",
       "    </tr>\n",
       "    <tr>\n",
       "      <th>reward</th>\n",
       "      <td>220.0</td>\n",
       "      <td>15.463285</td>\n",
       "      <td>41.267293</td>\n",
       "      <td>-121.136491</td>\n",
       "      <td>9.800690</td>\n",
       "      <td>37.530332</td>\n",
       "      <td>39.040373</td>\n",
       "      <td>42.805750</td>\n",
       "    </tr>\n",
       "    <tr>\n",
       "      <th>time</th>\n",
       "      <td>220.0</td>\n",
       "      <td>266.545393</td>\n",
       "      <td>88.578386</td>\n",
       "      <td>17.602814</td>\n",
       "      <td>201.365555</td>\n",
       "      <td>214.889176</td>\n",
       "      <td>360.925956</td>\n",
       "      <td>371.369002</td>\n",
       "    </tr>\n",
       "  </tbody>\n",
       "</table>\n",
       "</div>"
      ],
      "text/plain": [
       "             count        mean        std         min         25%         50%  \\\n",
       "average_cte  220.0    0.662324   0.977291    0.001068    0.035236    0.208530   \n",
       "reward       220.0   15.463285  41.267293 -121.136491    9.800690   37.530332   \n",
       "time         220.0  266.545393  88.578386   17.602814  201.365555  214.889176   \n",
       "\n",
       "                    75%         max  \n",
       "average_cte    0.829356    3.677833  \n",
       "reward        39.040373   42.805750  \n",
       "time         360.925956  371.369002  "
      ]
     },
     "execution_count": 13,
     "metadata": {},
     "output_type": "execute_result"
    }
   ],
   "source": [
    "vector_data[['average_cte','reward','time']].describe().T"
   ]
  },
  {
   "cell_type": "code",
   "execution_count": 14,
   "metadata": {},
   "outputs": [
    {
     "name": "stderr",
     "output_type": "stream",
     "text": [
      "C:\\ProgramData\\Anaconda3\\lib\\site-packages\\pandas\\core\\nanops.py:1558: DeprecationWarning: the `interpolation=` argument to percentile was renamed to `method=`, which has additional options.\n",
      "Users of the modes 'nearest', 'lower', 'higher', or 'midpoint' are encouraged to review the method they. (Deprecated NumPy 1.22)\n",
      "  return np.percentile(values, q, axis=axis, interpolation=interpolation)\n"
     ]
    },
    {
     "data": {
      "text/html": [
       "<div>\n",
       "<style scoped>\n",
       "    .dataframe tbody tr th:only-of-type {\n",
       "        vertical-align: middle;\n",
       "    }\n",
       "\n",
       "    .dataframe tbody tr th {\n",
       "        vertical-align: top;\n",
       "    }\n",
       "\n",
       "    .dataframe thead th {\n",
       "        text-align: right;\n",
       "    }\n",
       "</style>\n",
       "<table border=\"1\" class=\"dataframe\">\n",
       "  <thead>\n",
       "    <tr style=\"text-align: right;\">\n",
       "      <th></th>\n",
       "      <th>count</th>\n",
       "      <th>mean</th>\n",
       "      <th>std</th>\n",
       "      <th>min</th>\n",
       "      <th>25%</th>\n",
       "      <th>50%</th>\n",
       "      <th>75%</th>\n",
       "      <th>max</th>\n",
       "    </tr>\n",
       "  </thead>\n",
       "  <tbody>\n",
       "    <tr>\n",
       "      <th>average_cte</th>\n",
       "      <td>220.0</td>\n",
       "      <td>0.930438</td>\n",
       "      <td>0.863218</td>\n",
       "      <td>0.332204</td>\n",
       "      <td>0.391084</td>\n",
       "      <td>0.496881</td>\n",
       "      <td>0.989119</td>\n",
       "      <td>3.658088</td>\n",
       "    </tr>\n",
       "    <tr>\n",
       "      <th>reward</th>\n",
       "      <td>220.0</td>\n",
       "      <td>-11.225441</td>\n",
       "      <td>45.688271</td>\n",
       "      <td>-250.976087</td>\n",
       "      <td>-23.857951</td>\n",
       "      <td>10.483665</td>\n",
       "      <td>17.296740</td>\n",
       "      <td>19.875367</td>\n",
       "    </tr>\n",
       "    <tr>\n",
       "      <th>time</th>\n",
       "      <td>220.0</td>\n",
       "      <td>234.985940</td>\n",
       "      <td>92.252856</td>\n",
       "      <td>0.096872</td>\n",
       "      <td>195.300723</td>\n",
       "      <td>208.248866</td>\n",
       "      <td>348.824697</td>\n",
       "      <td>374.684382</td>\n",
       "    </tr>\n",
       "  </tbody>\n",
       "</table>\n",
       "</div>"
      ],
      "text/plain": [
       "             count        mean        std         min         25%         50%  \\\n",
       "average_cte  220.0    0.930438   0.863218    0.332204    0.391084    0.496881   \n",
       "reward       220.0  -11.225441  45.688271 -250.976087  -23.857951   10.483665   \n",
       "time         220.0  234.985940  92.252856    0.096872  195.300723  208.248866   \n",
       "\n",
       "                    75%         max  \n",
       "average_cte    0.989119    3.658088  \n",
       "reward        17.296740   19.875367  \n",
       "time         348.824697  374.684382  "
      ]
     },
     "execution_count": 14,
     "metadata": {},
     "output_type": "execute_result"
    }
   ],
   "source": [
    "basis_data[['average_cte','reward','time']].describe().T"
   ]
  },
  {
   "cell_type": "markdown",
   "metadata": {},
   "source": [
    "### CTE (Cross Track Error)"
   ]
  },
  {
   "cell_type": "code",
   "execution_count": 15,
   "metadata": {},
   "outputs": [
    {
     "data": {
      "text/plain": [
       "0.6623235991411974"
      ]
     },
     "execution_count": 15,
     "metadata": {},
     "output_type": "execute_result"
    }
   ],
   "source": [
    "vector_data['average_cte'].mean()"
   ]
  },
  {
   "cell_type": "code",
   "execution_count": 16,
   "metadata": {},
   "outputs": [
    {
     "data": {
      "text/plain": [
       "0.9304381635037615"
      ]
     },
     "execution_count": 16,
     "metadata": {},
     "output_type": "execute_result"
    }
   ],
   "source": [
    "basis_data['average_cte'].mean()"
   ]
  },
  {
   "cell_type": "markdown",
   "metadata": {},
   "source": [
    "#### Unpaired t-test result\n",
    "Calculate the T-test for the means of two independent samples of scores. The Null-Hypothese can be declined because the p-value shows a highly significant."
   ]
  },
  {
   "cell_type": "code",
   "execution_count": 17,
   "metadata": {},
   "outputs": [
    {
     "data": {
      "text/plain": [
       "Ttest_indResult(statistic=-3.0498341274508483, pvalue=0.0024286044302461863)"
      ]
     },
     "execution_count": 17,
     "metadata": {},
     "output_type": "execute_result"
    }
   ],
   "source": [
    "ttest_ind(vector_data['average_cte'], basis_data['average_cte'])"
   ]
  },
  {
   "cell_type": "markdown",
   "metadata": {},
   "source": [
    "### Reward\n",
    " The Null-Hypothese can be declined because the p-value shows a highly significant."
   ]
  },
  {
   "cell_type": "code",
   "execution_count": 18,
   "metadata": {},
   "outputs": [
    {
     "data": {
      "text/plain": [
       "15.46328486246697"
      ]
     },
     "execution_count": 18,
     "metadata": {},
     "output_type": "execute_result"
    }
   ],
   "source": [
    "vector_data['reward'].mean()"
   ]
  },
  {
   "cell_type": "code",
   "execution_count": 19,
   "metadata": {},
   "outputs": [
    {
     "data": {
      "text/plain": [
       "-11.22544084058093"
      ]
     },
     "execution_count": 19,
     "metadata": {},
     "output_type": "execute_result"
    }
   ],
   "source": [
    "basis_data['reward'].mean()"
   ]
  },
  {
   "cell_type": "code",
   "execution_count": 20,
   "metadata": {},
   "outputs": [
    {
     "data": {
      "text/plain": [
       "Ttest_indResult(statistic=6.42978164122326, pvalue=3.346866143412779e-10)"
      ]
     },
     "execution_count": 20,
     "metadata": {},
     "output_type": "execute_result"
    }
   ],
   "source": [
    "ttest_ind(vector_data['reward'], basis_data['reward'])"
   ]
  },
  {
   "cell_type": "markdown",
   "metadata": {},
   "source": [
    "## Time"
   ]
  },
  {
   "cell_type": "code",
   "execution_count": 39,
   "metadata": {},
   "outputs": [
    {
     "data": {
      "text/plain": [
       "266.5453931667588"
      ]
     },
     "execution_count": 39,
     "metadata": {},
     "output_type": "execute_result"
    }
   ],
   "source": [
    "vector_data['time'].mean()"
   ]
  },
  {
   "cell_type": "code",
   "execution_count": 42,
   "metadata": {},
   "outputs": [
    {
     "data": {
      "text/plain": [
       "234.98593959591605"
      ]
     },
     "execution_count": 42,
     "metadata": {},
     "output_type": "execute_result"
    }
   ],
   "source": [
    "basis_data['time'].mean()"
   ]
  },
  {
   "cell_type": "code",
   "execution_count": 43,
   "metadata": {},
   "outputs": [
    {
     "data": {
      "text/plain": [
       "Ttest_indResult(statistic=3.6600979481829703, pvalue=0.00028287437427783736)"
      ]
     },
     "execution_count": 43,
     "metadata": {},
     "output_type": "execute_result"
    }
   ],
   "source": [
    "ttest_ind(vector_data['time'], basis_data['time'])"
   ]
  },
  {
   "cell_type": "markdown",
   "metadata": {},
   "source": [
    "## Visiual plots for comparison"
   ]
  },
  {
   "cell_type": "markdown",
   "metadata": {},
   "source": [
    "### Reward comparision"
   ]
  },
  {
   "cell_type": "code",
   "execution_count": 45,
   "metadata": {},
   "outputs": [
    {
     "data": {
      "image/png": "[encoded data removed]",
      "text/plain": [
       "<Figure size 864x432 with 1 Axes>"
      ]
     },
     "metadata": {},
     "output_type": "display_data"
    }
   ],
   "source": [
    "plt.figure(figsize=(12,6))\n",
    "plt.title('Reward comparison', fontsize=16)\n",
    "plt.plot(vector_data.index, vector_data['reward'].sort_values(), label='Vector Space')\n",
    "plt.plot(basis_data.index, basis_data['reward'].sort_values(), label='Basis')\n",
    "plt.xlabel('Episodes', fontsize=16)\n",
    "plt.ylabel('Reward', fontsize=16)\n",
    "plt.legend(loc=\"lower right\")\n",
    "plt.savefig('C:\\\\Users\\\\studwilksa2535\\\\Desktop\\\\DonkeyCarAI\\\\training_plots\\\\evaluation_reward.png')\n",
    "plt.show()"
   ]
  },
  {
   "cell_type": "code",
   "execution_count": 37,
   "metadata": {},
   "outputs": [
    {
     "data": {
      "image/png": "[encoded data removed]",
      "text/plain": [
       "<Figure size 864x432 with 1 Axes>"
      ]
     },
     "metadata": {},
     "output_type": "display_data"
    }
   ],
   "source": [
    "plt.figure(figsize=(12,6))\n",
    "plt.title('Reward comparison', fontsize=16)\n",
    "plt.plot(vector_data.index, vector_data['reward'].sort_values(), label='Vector Space')\n",
    "plt.plot(basis_data.index, basis_data['reward'].sort_values(), label='Basis')\n",
    "plt.xlabel('Episode', fontsize=16)\n",
    "plt.ylabel('Reward', fontsize=16)\n",
    "plt.legend(loc=\"lower right\")\n",
    "plt.savefig('C:\\\\Users\\\\studwilksa2535\\\\Desktop\\\\DonkeyCarAI\\\\training_plots\\\\evaluation_reward.png')\n",
    "plt.show()"
   ]
  },
  {
   "cell_type": "markdown",
   "metadata": {},
   "source": [
    "### CTE comparison"
   ]
  },
  {
   "cell_type": "code",
   "execution_count": 32,
   "metadata": {},
   "outputs": [
    {
     "data": {
      "image/png": "[encoded data removed]",
      "text/plain": [
       "<Figure size 864x432 with 1 Axes>"
      ]
     },
     "metadata": {},
     "output_type": "display_data"
    }
   ],
   "source": [
    "plt.figure(figsize=(12,6))\n",
    "plt.title('CTE comparison', fontsize=16)\n",
    "plt.plot(vector_data.index, vector_data['average_cte'].sort_values(), label='Vector Space')\n",
    "plt.plot(basis_data.index, basis_data['average_cte'].sort_values(), label='Basis')\n",
    "plt.xlabel('Episode', fontsize=16)\n",
    "plt.ylabel('CTE', fontsize=16)\n",
    "plt.legend(loc=\"lower right\")\n",
    "plt.savefig('C:\\\\Users\\\\studwilksa2535\\\\Desktop\\\\DonkeyCarAI\\\\training_plots\\\\evaluation_cte.png')\n",
    "plt.show()"
   ]
  },
  {
   "cell_type": "code",
   "execution_count": 38,
   "metadata": {},
   "outputs": [
    {
     "data": {
      "image/png": "[encoded data removed]",
      "text/plain": [
       "<Figure size 864x432 with 1 Axes>"
      ]
     },
     "metadata": {},
     "output_type": "display_data"
    }
   ],
   "source": [
    "plt.figure(figsize=(12,6))\n",
    "plt.title('Time comparison', fontsize=16)\n",
    "plt.plot(vector_data.index, vector_data['time'].sort_values(), label='Vector Space')\n",
    "plt.plot(basis_data.index, basis_data['time'].sort_values(), label='Basis')\n",
    "plt.xlabel('Episode', fontsize=16)\n",
    "plt.ylabel('Time', fontsize=16)\n",
    "plt.legend(loc=\"lower right\")\n",
    "plt.savefig('C:\\\\Users\\\\studwilksa2535\\\\Desktop\\\\DonkeyCarAI\\\\training_plots\\\\evaluation_time.png')\n",
    "plt.show()"
   ]
  }
 ],
 "metadata": {
  "interpreter": {
   "hash": "916dbcbb3f70747c44a77c7bcd40155683ae19c65e1c03b4aa3499c5328201f1"
  },
  "kernelspec": {
   "display_name": "Python 3 (ipykernel)",
   "language": "python",
   "name": "python3"
  },
  "language_info": {
   "codemirror_mode": {
    "name": "ipython",
    "version": 3
   },
   "file_extension": ".py",
   "mimetype": "text/x-python",
   "name": "python",
   "nbconvert_exporter": "python",
   "pygments_lexer": "ipython3",
   "version": "3.8.5"
  }
 },
 "nbformat": 4,
 "nbformat_minor": 2
}
